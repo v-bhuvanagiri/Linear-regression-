{
 "cells": [
  {
   "cell_type": "code",
   "execution_count": 1,
   "id": "cda5b075",
   "metadata": {},
   "outputs": [],
   "source": [
    "import pandas as pd\n",
    "import numpy as np\n",
    "import matplotlib.pyplot as plt\n",
    "import math"
   ]
  },
  {
   "cell_type": "code",
   "execution_count": 2,
   "id": "5dcaa24b",
   "metadata": {},
   "outputs": [
    {
     "name": "stdout",
     "output_type": "stream",
     "text": [
      "[ 42  89  16   3  21  84  36  39   0  30   9  45  80  66  80  35  51  44\n",
      "  32   8  40   7  39  54  82  31   4  81  31  82  57  58  19  27  68  33\n",
      "  56  30  36  74  67  30  58  29  79  68  57  89  30  63  61  21  22  51\n",
      "  93  64  67  40  22   5  44  29  87   4   4  78  35  60   3  50  60  42\n",
      "  27  45  91   2  73  76  62  45 100  28  92  12  97  54  50  69  75  57\n",
      "  93  47  48  39  72  51  54  28  85  44  74  74   9  98  50  60  39  58\n",
      "  91  50  43   9  86  81  25  93  39  67  45   8  84  86  78  79  25 100\n",
      "  69  65  11  74  16  60  56  35   6   5  17  66  40  98  99  64  72  88\n",
      "  44  14  82  22  27  47  73   7  48  66  28   4  34  97  58  92  70  47\n",
      "  63  87   6  55  80  59  10  89  65  84  11  51  62  39  91  69  49  30\n",
      "  93  75 100  92  95  40  44  75  88  82  47  54  26  25   4  43  34  20\n",
      "  66  28   8   1  80  82  32  64  87  64  91  67  99   7  56  31  54  36\n",
      "   6  57  21  63  41  68  92  46  74  23  99  55  93  91  19  84  63  81\n",
      "  16  68  48   6  50  11  94  69  72  81  66   6  77   1   0  14  32  60\n",
      "  46  81  32  14  18  10   7  91  85  81  21  16  25  79  56  68  83  41\n",
      "   4  87  45  34  63  62  65  81  34  23  94  34  24  17  65  59  20  21\n",
      "  60  66  62  52  38  60  42  61  30  54  35  98  24  38  75  59  49   4\n",
      "  20   8   6  31  82  21  46  41  14  82  87  62  20  61  15  64  27   9\n",
      "  23  38  59  40  42  37  80  13  25  51  87  85  76  25  74  84  39  68\n",
      "  51  92  71  72   2  80  72  37  90  75   8   8   4  30  44  20  60  91\n",
      "  86  53  67   9  35  66  41  77  88  65  43  55  68  40  55  30  76  95\n",
      "  83   3  77  71  12  72   2  88  79  33  93  95  46  90  87  53  34  27\n",
      "  84  96  12  53  90  40  10  18   6  76  59   9  49  80  72  92  55  86\n",
      "  75  93 100  57  63  57  84  16  82  46  96  10  51  39  25   9   6  80\n",
      "  59  25  39  40  95  45  22   6  13  28   2  39  33  81  38  31  98  92\n",
      "  57  29  99   4  42   7  81  89  20  74  99  46  71   7  77  89  63  50\n",
      "  91  22  52  79  76  69  14  31  35  61  59  62  52  56  97  17  30  39\n",
      "  69  34  74  32  39 100  74  71  94  82  77   7  17  24  96  63  14  40\n",
      "  20   6  68  47  98  94  19  78  44  90  90  68  16  44  78  52  31  87\n",
      "  79  89  13  35  23   5  16  82  84   6  61  89  52  13  73  26   9  70\n",
      "  56   6  20  30  57   1  86  79  31  93  92   7  21  97  48  35  61   2\n",
      "  76  81  36  39  94  51  60  73  12  20  78  27  77  16  21  65  32  12\n",
      "  80  15   1  77 100  29  56  12  99  78  78  63  32  71  70  55  61  36\n",
      "  33  86   9  59   8  91  99  58  19  10  75  27  82  19  92  59  21  58\n",
      "  69  46  64  46  24 100  44  99  46  22  25  37  52  12  83  14  31  10\n",
      "  58  81  26   0  13  33  85   5  33   6  25   1  25  37  97  17  19   6\n",
      "  22  80  56  12  45  14   3  79  10  27  87   4  15   2  23  14  60  61\n",
      "  57  99  31  55  66  32  56  21  45  15  19  60  11  13  51  79  25  66\n",
      "  28  16   4  29  58  60  73   8  38  17  76  52  97  31  78  71  23  32\n",
      "  81  31  13  41  96  12  25  62  43  86   5  26  63   2  35  51  40  27\n",
      "  31  70   5  19  62  43  46  69  65  74  35  78  38  68  92  70  72  54\n",
      "  42  95  28  62  54  88  33  51  80  39  74  65  35   0  55  63  12   8\n",
      "  53  67  47  52  11  59  36  94  30  90  35  64  53  36  79  99  18  64\n",
      "  25  26  91  31  89  63  76  66  19  94   2  99  17  70  10  78  96  20\n",
      "  25  50  77  84  17   6 100   5  64  72  90  17   5  38  62  13  75  68\n",
      "  60   6  49  57  85  65  93   1  72  40  61 100  44  20  91  15  47  75\n",
      "  92  19   9  72   2   7  25  50  51  33  44  23  44  73  35  10  76  24\n",
      "  49   2  11  34  39  96  75  44  25  99  62  36  13  82  80  98  43  62\n",
      "  75  72   4  76  91  23  39  47  89   1  42  13  47  67  36  33  73  97\n",
      "  67  94  33  72   9  63  48  66  80   3  28  56  82  89  79  17  51  91\n",
      "  69  69  59  74  67  17  20  42  23  97  45  47  45  43   5  50  34  84\n",
      "   5  86  37  52  92  44  60  90  74  30  25  99  55  35  38  56  32  91\n",
      "  18  27  23   9  57  86  12  29   4  40  73  10  86  48  66  90  35  97\n",
      "  99  95  81  62  59  83  90   2  46  13  59  73  69  72  62  58  91  30\n",
      "  69  83  75  20  16  90  72  26  17   3  60  11 100  39   7  52  32  44\n",
      "  70  66  95  24  23  79  27  85  65  61]\n"
     ]
    }
   ],
   "source": [
    "import random\n",
    "#random 1000 x points\n",
    "x=[]\n",
    "n=1000\n",
    "for i in range(n):\n",
    "\tx.append(random.randint(0,100))\n",
    "\n",
    "x=np.array(x)\n",
    "print(x)"
   ]
  },
  {
   "cell_type": "code",
   "execution_count": 3,
   "id": "a19efbb3",
   "metadata": {},
   "outputs": [
    {
     "name": "stdout",
     "output_type": "stream",
     "text": [
      "[0 6 8 4 3 1 3 3 7 6 1 3 0 6 7 4 9 9 3 2 6 1 6 0 1 9 6 7 2 0 7 4 3 8 5 5 9\n",
      " 2 3 9 5 6 6 0 5 3 6 7 9 1 5 8 9 4 1 1 0 5 5 8 6 3 6 0 3 8 3 7 8 4 0 2 3 1\n",
      " 1 6 4 2 1 7 5 3 7 0 9 3 2 8 6 4 8 0 7 1 3 0 5 7 4 0 7 2 2 0 5 7 9 8 4 6 8\n",
      " 5 7 7 8 7 0 6 7 0 3 5 4 7 2 9 3 5 8 1 1 5 2 7 1 2 4 5 8 7 3 7 3 4 5 2 4 7\n",
      " 4 4 0 9 9 5 1 4 6 4 5 7 1 8 2 9 7 9 5 3 3 8 1 3 8 6 9 1 3 4 1 8 5 8 1 6 0\n",
      " 1 1 9 7 6 4 4 2 3 4 8 4 9 3 7 8 9 3 7 0 5 0 5 1 4 8 6 4 7 4 0 0 3 6 6 3 6\n",
      " 2 5 4 5 5 5 5 2 4 1 8 9 5 9 6 3 0 6 0 8 4 5 4 2 7 8 4 8 2 9 0 0 2 7 7 6 4\n",
      " 6 5 3 8 1 0 4 6 3 4 0 4 3 7 9 2 4 7 8 5 3 2 2 4 4 8 5 3 8 6 9 7 9 1 5 0 0\n",
      " 1 4 8 4 4 3 6 7 8 8 1 7 5 7 3 5 2 4 6 2 8 3 9 1 4 1 0 3 9 7 8 2 1 7 5 4 9\n",
      " 8 5 3 8 0 3 9 9 8 5 9 6 0 6 7 1 8 7 8 8 8 9 5 1 1 4 6 5 4 5 8 5 9 4 3 0 6\n",
      " 6 8 7 2 5 7 6 0 2 4 8 0 5 6 8 0 7 2 5 4 4 1 7 3 9 1 8 5 2 6 1 9 9 9 6 9 3\n",
      " 8 9 1 3 4 3 0 6 0 8 0 7 7 5 9 7 5 1 4 4 1 7 4 2 0 8 2 3 1 6 0 8 6 3 7 9 0\n",
      " 7 4 7 2 8 9 9 4 5 5 6 7 5 6 8 0 3 4 8 6 3 6 6 7 1 6 5 2 3 7 1 0 6 0 4 7 9\n",
      " 3 5 0 9 7 3 0 9 9 4 7 6 4 2 4 1 8 7 0 3 7 6 1 7 9 1 8 2 7 7 8 0 0 0 2 4 2\n",
      " 4 7 0 7 8 1 6 4 4 5 8 7 6 1 9 5 4 2 6 2 9 3 0 7 1 3 0 2 0 1 3 2 8 6 8 0 3\n",
      " 8 9 6 8 6 3 9 7 9 5 6 4 5 9 6 1 7 3 6 7 4 2 6 2 2 1 9 1 1 1 5 3 5 3 4 0 9\n",
      " 9 8 3 0 1 9 1 8 6 0 1 4 6 4 2 0 1 8 8 6 4 2 7 3 0 0 7 3 7 6 2 6 6 1 9 2 6\n",
      " 7 8 7 0 7 6 3 8 8 8 1 3 6 7 3 1 7 1 3 0 1 2 1 8 0 8 1 9 0 6 0 0 6 5 9 0 6\n",
      " 6 5 9 2 4 9 7 4 2 9 4 5 7 3 5 2 4 2 2 4 0 4 4 9 5 4 6 2 5 5 9 4 4 1 9 2 1\n",
      " 3 4 6 9 4 9 3 2 9 3 5 8 0 3 6 7 4 2 1 6 1 5 4 9 1 3 2 8 8 0 2 6 7 2 8 5 6\n",
      " 2 9 9 5 2 0 5 2 1 3 8 3 4 7 5 9 2 9 8 7 3 5 7 2 3 2 1 8 8 0 5 9 9 9 0 8 6\n",
      " 6 8 8 2 2 2 6 5 7 7 4 4 7 0 1 9 6 8 2 8 1 3 1 8 4 9 5 8 8 7 9 9 4 9 6 4 9\n",
      " 7 9 5 0 7 6 9 5 7 4 2 3 5 4 5 9 3 1 6 8 4 5 4 2 5 8 7 3 7 8 9 2 5 4 9 3 9\n",
      " 0 9 1 4 0 2 0 6 3 4 2 5 4 8 9 4 7 2 6 2 2 6 0 4 9 6 6 3 0 2 8 7 3 4 6 1 9\n",
      " 3 2 5 6 4 2 1 4 9 7 3 5 3 3 7 7 9 2 3 4 3 3 1 5 3 6 9 0 6 7 1 6 5 5 0 9 8\n",
      " 1 2 9 0 8 2 7 2 3 8 0 7 0 5 8 0 9 5 2 4 6 4 6 7 8 6 7 5 6 8 2 8 9 5 6 9 2\n",
      " 7 5 5 8 6 4 0 4 7 3 6 0 7 4 0 9 1 7 4 7 5 2 0 8 4 5 1 9 2 0 4 9 2 4 6 2 8\n",
      " 6]\n"
     ]
    }
   ],
   "source": [
    "import random\n",
    "#Random 1000 y points\n",
    "y=[]\n",
    "n=1000\n",
    "for i in range(n):\n",
    "\ty.append(random.randint(0,9))\n",
    "y=np.array(y)    \n",
    "print(y)"
   ]
  },
  {
   "cell_type": "code",
   "execution_count": 4,
   "id": "9080562e",
   "metadata": {},
   "outputs": [],
   "source": [
    "data= list(zip(x,y))"
   ]
  },
  {
   "cell_type": "code",
   "execution_count": 5,
   "id": "a40b9748",
   "metadata": {},
   "outputs": [],
   "source": [
    "df = pd.DataFrame(data,columns=[\"x\",\"y\"])"
   ]
  },
  {
   "cell_type": "code",
   "execution_count": 6,
   "id": "5f2cb24d",
   "metadata": {},
   "outputs": [
    {
     "data": {
      "text/html": [
       "<div>\n",
       "<style scoped>\n",
       "    .dataframe tbody tr th:only-of-type {\n",
       "        vertical-align: middle;\n",
       "    }\n",
       "\n",
       "    .dataframe tbody tr th {\n",
       "        vertical-align: top;\n",
       "    }\n",
       "\n",
       "    .dataframe thead th {\n",
       "        text-align: right;\n",
       "    }\n",
       "</style>\n",
       "<table border=\"1\" class=\"dataframe\">\n",
       "  <thead>\n",
       "    <tr style=\"text-align: right;\">\n",
       "      <th></th>\n",
       "      <th>x</th>\n",
       "      <th>y</th>\n",
       "    </tr>\n",
       "  </thead>\n",
       "  <tbody>\n",
       "    <tr>\n",
       "      <th>0</th>\n",
       "      <td>42</td>\n",
       "      <td>0</td>\n",
       "    </tr>\n",
       "    <tr>\n",
       "      <th>1</th>\n",
       "      <td>89</td>\n",
       "      <td>6</td>\n",
       "    </tr>\n",
       "    <tr>\n",
       "      <th>2</th>\n",
       "      <td>16</td>\n",
       "      <td>8</td>\n",
       "    </tr>\n",
       "    <tr>\n",
       "      <th>3</th>\n",
       "      <td>3</td>\n",
       "      <td>4</td>\n",
       "    </tr>\n",
       "    <tr>\n",
       "      <th>4</th>\n",
       "      <td>21</td>\n",
       "      <td>3</td>\n",
       "    </tr>\n",
       "    <tr>\n",
       "      <th>...</th>\n",
       "      <td>...</td>\n",
       "      <td>...</td>\n",
       "    </tr>\n",
       "    <tr>\n",
       "      <th>995</th>\n",
       "      <td>79</td>\n",
       "      <td>4</td>\n",
       "    </tr>\n",
       "    <tr>\n",
       "      <th>996</th>\n",
       "      <td>27</td>\n",
       "      <td>6</td>\n",
       "    </tr>\n",
       "    <tr>\n",
       "      <th>997</th>\n",
       "      <td>85</td>\n",
       "      <td>2</td>\n",
       "    </tr>\n",
       "    <tr>\n",
       "      <th>998</th>\n",
       "      <td>65</td>\n",
       "      <td>8</td>\n",
       "    </tr>\n",
       "    <tr>\n",
       "      <th>999</th>\n",
       "      <td>61</td>\n",
       "      <td>6</td>\n",
       "    </tr>\n",
       "  </tbody>\n",
       "</table>\n",
       "<p>1000 rows × 2 columns</p>\n",
       "</div>"
      ],
      "text/plain": [
       "      x  y\n",
       "0    42  0\n",
       "1    89  6\n",
       "2    16  8\n",
       "3     3  4\n",
       "4    21  3\n",
       "..   .. ..\n",
       "995  79  4\n",
       "996  27  6\n",
       "997  85  2\n",
       "998  65  8\n",
       "999  61  6\n",
       "\n",
       "[1000 rows x 2 columns]"
      ]
     },
     "execution_count": 6,
     "metadata": {},
     "output_type": "execute_result"
    }
   ],
   "source": [
    "df"
   ]
  },
  {
   "cell_type": "code",
   "execution_count": 7,
   "id": "d1fd79ae",
   "metadata": {},
   "outputs": [],
   "source": [
    "#splitting data using sklearn\n",
    "from sklearn.model_selection import train_test_split\n",
    "x_train,x_test,y_train,y_test = train_test_split(x,y,test_size=0.30,random_state=6)"
   ]
  },
  {
   "cell_type": "code",
   "execution_count": 8,
   "id": "36ba2139",
   "metadata": {},
   "outputs": [
    {
     "data": {
      "text/plain": [
       "array([0, 4, 8, 3, 8, 7, 0, 2, 8, 9, 3, 0, 4, 8, 7, 9, 1, 1, 6, 3, 8, 1,\n",
       "       2, 3, 7, 8, 6, 8, 9, 2, 7, 4, 6, 8, 6, 8, 8, 6, 7, 2, 4, 3, 3, 6,\n",
       "       9, 4, 9, 2, 4, 6, 4, 6, 5, 8, 0, 3, 6, 1, 9, 2, 0, 3, 3, 6, 1, 4,\n",
       "       0, 9, 0, 6, 4, 4, 8, 0, 9, 2, 5, 0, 9, 7, 2, 1, 7, 2, 3, 7, 2, 3,\n",
       "       2, 0, 7, 3, 1, 8, 4, 7, 4, 5, 6, 5, 3, 8, 4, 9, 9, 5, 7, 7, 5, 7,\n",
       "       8, 5, 9, 4, 9, 7, 7, 6, 8, 2, 5, 6, 6, 9, 8, 1, 2, 7, 7, 4, 7, 2,\n",
       "       7, 3, 9, 4, 5, 4, 4, 3, 7, 0, 0, 2, 7, 3, 9, 9, 8, 3, 2, 9, 6, 8,\n",
       "       4, 7, 7, 0, 4, 7, 2, 3, 7, 5, 9, 5, 8, 5, 7, 0, 2, 5, 2, 3, 5, 0,\n",
       "       3, 1, 6, 7, 9, 6, 4, 3, 3, 7, 8, 6, 3, 8, 5, 0, 4, 4, 2, 8, 6, 6,\n",
       "       5, 5, 5, 6, 7, 9, 2, 6, 0, 1, 2, 0, 6, 3, 0, 7, 3, 4, 8, 1, 2, 2,\n",
       "       3, 7, 9, 2, 7, 4, 2, 9, 3, 4, 5, 7, 8, 5, 4, 1, 2, 1, 2, 5, 3, 8,\n",
       "       3, 3, 6, 8, 0, 3, 4, 1, 6, 4, 0, 4, 6, 2, 6, 3, 5, 9, 5, 6, 1, 7,\n",
       "       8, 3, 7, 3, 6, 3, 0, 6, 8, 1, 6, 7, 9, 9, 2, 7, 8, 3, 1, 7, 6, 6,\n",
       "       3, 7, 9, 2, 0, 0, 8, 5, 5, 3, 0, 8, 9, 3, 9, 9, 8, 2, 8, 2, 7, 7,\n",
       "       4, 5, 4, 4, 6, 2, 6, 6, 8, 8, 7, 1, 1, 6, 4, 5, 4, 3, 2, 2, 3, 0,\n",
       "       3, 0, 2, 9, 9, 7, 3, 2, 3, 3, 3, 3, 0, 4, 7, 9, 8, 1, 2, 6, 1, 7,\n",
       "       0, 4, 0, 0, 5, 2, 2, 4, 6, 4, 4, 5, 2, 9, 1, 4, 4, 8, 6, 7, 4, 1,\n",
       "       0, 4, 7, 9, 5, 4, 3, 2, 3, 2, 7, 7, 8, 5, 1, 6, 6, 5, 1, 8, 0, 3,\n",
       "       5, 0, 0, 3, 1, 9, 4, 5, 7, 1, 5, 3, 5, 5, 1, 0, 5, 2, 8, 1, 7, 9,\n",
       "       5, 7, 7, 0, 6, 1, 7, 3, 8, 0, 5, 3, 4, 5, 0, 2, 5, 3, 1, 8, 8, 1,\n",
       "       5, 6, 4, 1, 8, 3, 6, 6, 6, 4, 0, 0, 3, 9, 1, 6, 4, 2, 5, 3, 5, 1,\n",
       "       0, 1, 6, 4, 3, 4, 7, 4, 5, 3, 6, 4, 6, 4, 9, 7, 5, 6, 7, 9, 7, 2,\n",
       "       6, 9, 4, 6, 8, 5, 4, 0, 4, 5, 6, 9, 7, 7, 6, 9, 7, 3, 4, 1, 2, 5,\n",
       "       8, 7, 0, 9, 4, 5, 3, 1, 0, 5, 0, 3, 8, 8, 1, 8, 9, 6, 7, 9, 5, 0,\n",
       "       9, 4, 7, 7, 2, 9, 1, 1, 9, 9, 8, 3, 2, 8, 9, 4, 3, 9, 8, 4, 4, 4,\n",
       "       3, 2, 3, 4, 0, 0, 0, 9, 6, 1, 0, 2, 6, 7, 4, 0, 0, 8, 4, 7, 6, 7,\n",
       "       2, 5, 6, 0, 9, 6, 4, 2, 7, 0, 6, 4, 6, 4, 7, 8, 0, 6, 9, 9, 4, 4,\n",
       "       0, 8, 4, 1, 5, 3, 4, 6, 2, 1, 3, 5, 2, 8, 3, 2, 2, 6, 3, 0, 9, 9,\n",
       "       7, 5, 6, 8, 7, 2, 5, 3, 7, 6, 6, 0, 7, 0, 1, 7, 7, 1, 4, 8, 5, 8,\n",
       "       0, 8, 5, 8, 9, 0, 5, 9, 1, 6, 5, 8, 8, 8, 9, 7, 1, 0, 5, 4, 9, 6,\n",
       "       5, 1, 2, 7, 9, 8, 9, 5, 7, 5, 3, 8, 3, 9, 4, 0, 1, 0, 8, 9, 2, 1,\n",
       "       8, 4, 6, 4, 8, 6, 0, 2, 9, 9, 5, 3, 9, 7, 4, 5, 5, 3])"
      ]
     },
     "execution_count": 8,
     "metadata": {},
     "output_type": "execute_result"
    }
   ],
   "source": [
    "y_train"
   ]
  },
  {
   "cell_type": "code",
   "execution_count": 9,
   "id": "bd929302",
   "metadata": {},
   "outputs": [],
   "source": [
    "x_mean=x_train.mean()"
   ]
  },
  {
   "cell_type": "code",
   "execution_count": 10,
   "id": "599a75e4",
   "metadata": {},
   "outputs": [
    {
     "data": {
      "text/plain": [
       "50.402857142857144"
      ]
     },
     "execution_count": 10,
     "metadata": {},
     "output_type": "execute_result"
    }
   ],
   "source": [
    "x_mean"
   ]
  },
  {
   "cell_type": "code",
   "execution_count": 11,
   "id": "ef33d064",
   "metadata": {},
   "outputs": [],
   "source": [
    "y_mean=y_train.mean()"
   ]
  },
  {
   "cell_type": "code",
   "execution_count": 12,
   "id": "297d4906",
   "metadata": {},
   "outputs": [
    {
     "data": {
      "text/plain": [
       "4.664285714285715"
      ]
     },
     "execution_count": 12,
     "metadata": {},
     "output_type": "execute_result"
    }
   ],
   "source": [
    "y_mean"
   ]
  },
  {
   "cell_type": "code",
   "execution_count": 13,
   "id": "3cc9e841",
   "metadata": {},
   "outputs": [],
   "source": [
    "l=len(x_train)"
   ]
  },
  {
   "cell_type": "code",
   "execution_count": 14,
   "id": "4b9d7aae",
   "metadata": {},
   "outputs": [],
   "source": [
    "num=0\n",
    "den=0"
   ]
  },
  {
   "cell_type": "code",
   "execution_count": 15,
   "id": "02e4c3c0",
   "metadata": {},
   "outputs": [],
   "source": [
    "for i in range(l):\n",
    "    num=num+((x_train[i]-x_mean)*(y_train[i]-y_mean))\n",
    "    den=den+((x_train[i]-x_mean)**2)\n",
    "m=num/den"
   ]
  },
  {
   "cell_type": "code",
   "execution_count": 16,
   "id": "bdc074ad",
   "metadata": {},
   "outputs": [
    {
     "name": "stdout",
     "output_type": "stream",
     "text": [
      "0.00026525332191128226\n"
     ]
    }
   ],
   "source": [
    "#slope\n",
    "print(m)"
   ]
  },
  {
   "cell_type": "code",
   "execution_count": 17,
   "id": "f9453cb9",
   "metadata": {},
   "outputs": [
    {
     "name": "stdout",
     "output_type": "stream",
     "text": [
      "4.650916188994752\n"
     ]
    }
   ],
   "source": [
    "#intercept\n",
    "c=y_mean-(m*x_mean)\n",
    "print(c)"
   ]
  },
  {
   "cell_type": "code",
   "execution_count": 18,
   "id": "d3b31246",
   "metadata": {},
   "outputs": [
    {
     "data": {
      "text/plain": [
       "[<matplotlib.lines.Line2D at 0x14524e11400>]"
      ]
     },
     "execution_count": 18,
     "metadata": {},
     "output_type": "execute_result"
    },
    {
     "data": {
      "image/png": "[encoded data removed]",
      "text/plain": [
       "<Figure size 640x480 with 1 Axes>"
      ]
     },
     "metadata": {},
     "output_type": "display_data"
    }
   ],
   "source": [
    "#plotting\n",
    "plt.scatter(x_train,y_train)\n",
    "plt.plot(x_train,m*x_train+c)"
   ]
  },
  {
   "cell_type": "code",
   "execution_count": 19,
   "id": "c5e0f939",
   "metadata": {},
   "outputs": [],
   "source": [
    "y_pred=m*x_test+c"
   ]
  },
  {
   "cell_type": "code",
   "execution_count": 20,
   "id": "b0fe8fe3",
   "metadata": {},
   "outputs": [
    {
     "data": {
      "text/plain": [
       "array([4.67001443, 4.66126107, 4.67664576, 4.66497462, 4.65675176,\n",
       "       4.67001443, 4.67346272, 4.66948392, 4.65516024, 4.65356872,\n",
       "       4.65303822, 4.6678924 , 4.66179158, 4.67505424, 4.67558475,\n",
       "       4.65860854, 4.66948392, 4.67266696, 4.6678924 , 4.66099582,\n",
       "       4.67452373, 4.67027968, 4.65250771, 4.66550512, 4.65224246,\n",
       "       4.6718712 , 4.66126107, 4.66152632, 4.66974917, 4.66285259,\n",
       "       4.655956  , 4.65250771, 4.66258734, 4.6718712 , 4.66285259,\n",
       "       4.66205683, 4.66630088, 4.6599348 , 4.65754752, 4.66921867,\n",
       "       4.66205683, 4.655956  , 4.6554255 , 4.66762715, 4.67266696,\n",
       "       4.66868816, 4.6718712 , 4.65569075, 4.66364835, 4.67505424,\n",
       "       4.65728227, 4.6639136 , 4.66603563, 4.6639136 , 4.66974917,\n",
       "       4.66868816, 4.67452373, 4.6519772 , 4.67134069, 4.65807803,\n",
       "       4.67425848, 4.66444411, 4.6599348 , 4.67319747, 4.67744152,\n",
       "       4.66020006, 4.66311784, 4.6633831 , 4.66285259, 4.66948392,\n",
       "       4.66948392, 4.67107544, 4.66311784, 4.65250771, 4.67478899,\n",
       "       4.67478899, 4.6519772 , 4.66842291, 4.65887379, 4.65171195,\n",
       "       4.65807803, 4.65648651, 4.67081019, 4.66736189, 4.65330347,\n",
       "       4.67531949, 4.67213645, 4.67081019, 4.67081019, 4.67425848,\n",
       "       4.65091619, 4.65118144, 4.66683139, 4.66417886, 4.66470936,\n",
       "       4.6599348 , 4.65383398, 4.66073056, 4.67478899, 4.65436448,\n",
       "       4.65622126, 4.65489499, 4.67054493, 4.655956  , 4.67266696,\n",
       "       4.65569075, 4.66470936, 4.6678924 , 4.67505424, 4.65622126,\n",
       "       4.67081019, 4.66285259, 4.67213645, 4.67213645, 4.67160595,\n",
       "       4.66868816, 4.6519772 , 4.67346272, 4.6718712 , 4.65834328,\n",
       "       4.66020006, 4.65516024, 4.65224246, 4.65781278, 4.66470936,\n",
       "       4.65754752, 4.6718712 , 4.66258734, 4.67717627, 4.65409923,\n",
       "       4.67054493, 4.66126107, 4.65834328, 4.67107544, 4.65277296,\n",
       "       4.67505424, 4.66205683, 4.65118144, 4.65701702, 4.66842291,\n",
       "       4.66630088, 4.67001443, 4.65409923, 4.65250771, 4.67585   ,\n",
       "       4.65436448, 4.65436448, 4.67160595, 4.65860854, 4.6554255 ,\n",
       "       4.66709664, 4.67213645, 4.66762715, 4.65913904, 4.67691101,\n",
       "       4.65913904, 4.6554255 , 4.66656613, 4.66577038, 4.65754752,\n",
       "       4.66311784, 4.66497462, 4.66046531, 4.66683139, 4.6514467 ,\n",
       "       4.6599348 , 4.67452373, 4.67399323, 4.65754752, 4.65675176,\n",
       "       4.67001443, 4.67240171, 4.66577038, 4.65118144, 4.67001443,\n",
       "       4.65887379, 4.65728227, 4.6633831 , 4.67319747, 4.66126107,\n",
       "       4.67425848, 4.67531949, 4.65277296, 4.66762715, 4.66656613,\n",
       "       4.65701702, 4.66311784, 4.67107544, 4.67585   , 4.66683139,\n",
       "       4.66258734, 4.65569075, 4.65701702, 4.65887379, 4.66020006,\n",
       "       4.67213645, 4.65807803, 4.66683139, 4.66364835, 4.6514467 ,\n",
       "       4.67717627, 4.65701702, 4.66311784, 4.67293221, 4.67081019,\n",
       "       4.66842291, 4.67107544, 4.66020006, 4.6633831 , 4.67240171,\n",
       "       4.67478899, 4.67134069, 4.66895341, 4.65648651, 4.67266696,\n",
       "       4.65754752, 4.67717627, 4.67107544, 4.65462974, 4.65250771,\n",
       "       4.65250771, 4.65224246, 4.65675176, 4.66232208, 4.66523987,\n",
       "       4.66895341, 4.67611525, 4.65383398, 4.65675176, 4.67107544,\n",
       "       4.6554255 , 4.66974917, 4.65250771, 4.66630088, 4.66258734,\n",
       "       4.65356872, 4.66550512, 4.65409923, 4.67717627, 4.66311784,\n",
       "       4.67027968, 4.65330347, 4.66842291, 4.65330347, 4.66842291,\n",
       "       4.65807803, 4.67505424, 4.65409923, 4.65966955, 4.65224246,\n",
       "       4.66364835, 4.65648651, 4.65330347, 4.67107544, 4.67664576,\n",
       "       4.66577038, 4.66020006, 4.655956  , 4.67664576, 4.67372797,\n",
       "       4.65966955, 4.67372797, 4.66046531, 4.67107544, 4.66921867,\n",
       "       4.65330347, 4.65436448, 4.66073056, 4.67160595, 4.67558475,\n",
       "       4.67372797, 4.65913904, 4.655956  , 4.655956  , 4.66126107,\n",
       "       4.66868816, 4.66126107, 4.66258734, 4.6678924 , 4.67425848,\n",
       "       4.66974917, 4.67585   , 4.66577038, 4.66470936, 4.66656613,\n",
       "       4.66126107, 4.65754752, 4.67372797, 4.65648651, 4.6554255 ,\n",
       "       4.67585   , 4.65409923, 4.66205683, 4.67691101, 4.67001443,\n",
       "       4.67717627, 4.66470936, 4.67240171, 4.67054493, 4.6633831 ])"
      ]
     },
     "execution_count": 20,
     "metadata": {},
     "output_type": "execute_result"
    }
   ],
   "source": [
    "y_pred"
   ]
  },
  {
   "cell_type": "code",
   "execution_count": 21,
   "id": "500c5d7f",
   "metadata": {},
   "outputs": [],
   "source": [
    "e=(y_test-y_pred)"
   ]
  },
  {
   "cell_type": "code",
   "execution_count": 22,
   "id": "ec22a35e",
   "metadata": {},
   "outputs": [
    {
     "name": "stdout",
     "output_type": "stream",
     "text": [
      "[-3.67001443  1.33873893 -1.67664576  1.33502538  3.34324824 -2.67001443\n",
      "  0.32653728 -2.66948392 -3.65516024  1.34643128 -0.65303822 -3.6678924\n",
      " -0.66179158  0.32494576  0.32441525 -4.65860854 -1.66948392  2.32733304\n",
      "  0.3321076  -3.66099582 -3.67452373 -4.67027968 -2.65250771 -2.66550512\n",
      "  3.34775754  4.3281288   4.33873893 -3.66152632 -0.66974917  2.33714741\n",
      "  4.344044    0.34749229  4.33741266  3.3281288  -1.66285259 -2.66205683\n",
      "  3.33369912  4.3400652  -4.65754752 -1.66921867 -0.66205683 -3.655956\n",
      "  0.3445745   3.33237285 -1.67266696 -4.66868816 -0.6718712   2.34430925\n",
      " -1.66364835  1.32494576 -4.65728227  4.3360864   4.33396437 -3.6639136\n",
      "  1.33025083  1.33131184  3.32547627 -0.6519772  -3.67134069 -0.65807803\n",
      " -4.67425848 -1.66444411  4.3400652  -3.67319747 -3.67744152 -0.66020006\n",
      " -0.66311784 -0.6633831   3.33714741 -4.66948392 -3.66948392 -2.67107544\n",
      " -0.66311784 -3.65250771 -3.67478899  2.32521101 -4.6519772  -2.66842291\n",
      "  3.34112621  2.34828805  3.34192197 -1.65648651  2.32918981 -2.66736189\n",
      " -3.65330347  0.32468051 -3.67213645  3.32918981  4.32918981 -4.67425848\n",
      " -0.65091619 -2.65118144  2.33316861  1.33582114  0.33529064  1.3400652\n",
      "  2.34616602 -1.66073056 -3.67478899 -0.65436448 -3.65622126  1.34510501\n",
      " -4.67054493 -4.655956   -2.67266696  4.34430925  0.33529064  0.3321076\n",
      " -3.67505424 -3.65622126  1.32918981 -2.66285259 -4.67213645 -3.67213645\n",
      "  4.32839405  0.33131184 -0.6519772  -0.67346272 -2.6718712   2.34165672\n",
      " -1.66020006  3.34483976  3.34775754  2.34218722  0.33529064  2.34245248\n",
      " -2.6718712  -4.66258734 -1.67717627 -0.65409923  4.32945507 -3.66126107\n",
      " -0.65834328 -1.67107544  3.34722704 -2.67505424 -4.66205683  4.34881856\n",
      " -2.65701702 -0.66842291 -0.66630088 -3.67001443 -3.65409923  4.34749229\n",
      " -4.67585     1.34563552 -1.65436448  3.32839405  4.34139146  3.3445745\n",
      "  4.33290336 -0.67213645 -2.66762715  1.34086096 -0.67691101  1.34086096\n",
      " -0.6554255  -0.66656613 -1.66577038 -0.65754752  2.33688216 -0.66497462\n",
      " -1.66046531  4.33316861  1.3485533  -0.6599348   1.32547627  3.32600677\n",
      " -4.65754752  1.34324824  4.32998557  0.32759829 -4.66577038 -4.65118144\n",
      "  2.32998557  2.34112621 -2.65728227  3.3366169   0.32680253 -4.66126107\n",
      "  0.32574152 -4.67531949  3.34722704  3.33237285  2.33343387  0.34298298\n",
      " -1.66311784  1.32892456  2.32415     1.33316861  2.33741266  4.34430925\n",
      "  4.34298298 -2.65887379  2.33979994 -2.67213645  1.34192197  4.33316861\n",
      "  4.33635165  1.3485533   4.32282373  0.34298298  0.33688216 -2.67293221\n",
      "  1.32918981  0.33157709  4.32892456 -3.66020006 -4.6633831  -0.67240171\n",
      "  4.32521101  3.32865931 -2.66895341  3.34351349  2.32733304  4.34245248\n",
      "  0.32282373  0.32892456  1.34537026 -3.65250771 -1.65250771  4.34775754\n",
      "  4.34324824  3.33767792  4.33476013 -2.66895341 -0.67611525  1.34616602\n",
      " -4.65675176  3.32892456 -2.6554255   3.33025083  1.34749229  0.33369912\n",
      " -3.66258734  1.34643128  3.33449488 -3.65409923  3.32282373  2.33688216\n",
      "  3.32972032 -1.65330347  1.33157709 -3.65330347  0.33157709 -3.65807803\n",
      "  1.32494576 -0.65409923  2.34033045  1.34775754  2.33635165  3.34351349\n",
      "  3.34669653  2.32892456  4.32335424 -2.66577038  0.33979994 -1.655956\n",
      "  0.32335424  4.32627203 -2.65966955  0.32627203 -4.66046531  4.32892456\n",
      " -3.66921867  3.34669653 -0.65436448  0.33926944 -0.67160595  2.32441525\n",
      " -4.67372797  4.34086096  2.344044   -3.655956   -3.66126107  1.33131184\n",
      " -2.66126107 -2.66258734  2.3321076   2.32574152 -4.66974917 -1.67585\n",
      "  1.33422962  4.33529064  3.33343387  4.33873893 -0.65754752  0.32627203\n",
      "  3.34351349  2.3445745  -2.67585    -2.65409923 -3.66205683 -4.67691101\n",
      " -0.67001443 -4.67717627  1.33529064  3.32759829  1.32945507 -2.6633831 ]\n"
     ]
    }
   ],
   "source": [
    "print(e)"
   ]
  },
  {
   "cell_type": "code",
   "execution_count": 23,
   "id": "a575b0e7",
   "metadata": {},
   "outputs": [],
   "source": [
    "mse=(((e)**2)/l).sum()"
   ]
  },
  {
   "cell_type": "code",
   "execution_count": 24,
   "id": "29476a98",
   "metadata": {},
   "outputs": [],
   "source": [
    "rmse=math.sqrt(mse)"
   ]
  },
  {
   "cell_type": "code",
   "execution_count": 25,
   "id": "5a07659f",
   "metadata": {},
   "outputs": [
    {
     "name": "stdout",
     "output_type": "stream",
     "text": [
      "1.9144609189791948\n"
     ]
    }
   ],
   "source": [
    "print(rmse)"
   ]
  },
  {
   "cell_type": "code",
   "execution_count": 26,
   "id": "2e87d16b",
   "metadata": {},
   "outputs": [],
   "source": [
    "lr=0.01\n",
    "iterations=50\n",
    "error=[]"
   ]
  },
  {
   "cell_type": "code",
   "execution_count": 28,
   "id": "951fb167",
   "metadata": {},
   "outputs": [],
   "source": [
    "for i in range(iterations):\n",
    "    cost=0\n",
    "    cost_c=0\n",
    "    cost_m=0\n",
    "    y_pred1=(c+m*x_test[i])\n",
    "    cost=cost+(y_test[i]-y_pred1)**2\n",
    "    partial_c=2*(y_test[i]-(c+m*x_test[i]))\n",
    "    partial_m=2*(y_test[i]-(c+m*x_test[i]))\n",
    "    cost_c=cost_c+partial_c\n",
    "    cost_m=cost_m+partial_m   \n",
    "    c1=c-lr*cost_c\n",
    "    m1=m-lr*cost_m\n",
    "        \n",
    "    error.append(cost)"
   ]
  },
  {
   "cell_type": "code",
   "execution_count": 29,
   "id": "affbf53a",
   "metadata": {},
   "outputs": [
    {
     "name": "stdout",
     "output_type": "stream",
     "text": [
      "-0.026233661852315154\n"
     ]
    }
   ],
   "source": [
    "print(m1)"
   ]
  },
  {
   "cell_type": "code",
   "execution_count": 30,
   "id": "9c87407a",
   "metadata": {},
   "outputs": [
    {
     "name": "stdout",
     "output_type": "stream",
     "text": [
      "4.624417273820526\n"
     ]
    }
   ],
   "source": [
    "print(c1)"
   ]
  },
  {
   "cell_type": "markdown",
   "id": "8b4ee495",
   "metadata": {},
   "source": [
    "# Using sklearn"
   ]
  },
  {
   "cell_type": "code",
   "execution_count": 31,
   "id": "84309819",
   "metadata": {},
   "outputs": [],
   "source": [
    "import sklearn"
   ]
  },
  {
   "cell_type": "code",
   "execution_count": 32,
   "id": "71de5b60",
   "metadata": {},
   "outputs": [],
   "source": [
    "from sklearn.linear_model import LinearRegression\n",
    "reg = LinearRegression()\n",
    "reg.fit(x_train.reshape(-1,1),y_train)\n",
    "y_pre=reg.predict(x_test.reshape(-1,1))"
   ]
  },
  {
   "cell_type": "code",
   "execution_count": 33,
   "id": "a0e7248f",
   "metadata": {},
   "outputs": [
    {
     "name": "stdout",
     "output_type": "stream",
     "text": [
      "4.650916188994752\n",
      "[0.00026525]\n"
     ]
    }
   ],
   "source": [
    "print(reg.intercept_)\n",
    "print(reg.coef_)"
   ]
  },
  {
   "cell_type": "markdown",
   "id": "56a613bc",
   "metadata": {},
   "source": [
    "we can see that the m and c values with gradient descent and sklearn are near but not similar"
   ]
  },
  {
   "cell_type": "code",
   "execution_count": null,
   "id": "dbb820a0",
   "metadata": {},
   "outputs": [],
   "source": []
  }
 ],
 "metadata": {
  "kernelspec": {
   "display_name": "Python 3 (ipykernel)",
   "language": "python",
   "name": "python3"
  },
  "language_info": {
   "codemirror_mode": {
    "name": "ipython",
    "version": 3
   },
   "file_extension": ".py",
   "mimetype": "text/x-python",
   "name": "python",
   "nbconvert_exporter": "python",
   "pygments_lexer": "ipython3",
   "version": "3.9.12"
  }
 },
 "nbformat": 4,
 "nbformat_minor": 5
}
