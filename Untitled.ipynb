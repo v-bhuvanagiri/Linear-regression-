{
 "cells": [
  {
   "cell_type": "code",
   "execution_count": 38,
   "id": "cda5b075",
   "metadata": {},
   "outputs": [],
   "source": [
    "import pandas as pd\n",
    "import numpy as np\n",
    "import matplotlib.pyplot as plt\n",
    "import math"
   ]
  },
  {
   "cell_type": "code",
   "execution_count": 39,
   "id": "5dcaa24b",
   "metadata": {},
   "outputs": [
    {
     "name": "stdout",
     "output_type": "stream",
     "text": [
      "[ 38   0   0  14  53  23  35  36  26  82  15  15  54  51  67  38  26  81\n",
      "  41  69  81  73  57   2  15  47  32  90  22   5  60   5  16  51  68  76\n",
      "  95   4  48  17  48  98  88  54   2  94  13  37  39  57  14  71  44  39\n",
      "  68   3  81  65   1  65  41  21  97  88  86  77  28  36   9  51  78  41\n",
      "  95  38  49 100  63  14  11  81   2  35  32  45  20  84  60 100  53  31\n",
      "  67  99   5   0  65  99  44  26  50  77  40  93  57  81  61  29  86  12\n",
      "  41  15  69   6  95 100  67  85  81  99  96  66  20  99  22  98  39  78\n",
      "  58  75  47  96  25   0 100  60  28  27  96  18   1  16  54  33  47   2\n",
      "  30  56  49  32   7  74  80   6  40  57  45  23  34  73  52  38  34  29\n",
      "  49  86  71  72  48  22  93  91  60  95  43  37  86  58  46  15   1  60\n",
      "  86  61   9  17  81  28  16  82  95  77  90  93  32  50  78  33  75  91\n",
      "  50  98  27  96   9  57  87  62  58  64  62  65  62  21   3  21  92   0\n",
      "  53  24  82  40   0  28  31  73  73  83  25  97  23  60  51  36  87  15\n",
      "  96  96  54   6  66  38   8  17  90  41  10  77  17  58  67  66  29  69\n",
      "   0  28  84   2  56  45  53  85  79  56  86  22  97  96  58  13  95  60\n",
      "  50  60  21  71  32  41  43  69  20  97  65  74  69  51  48  64  41  20\n",
      "  99  65  84  27  94  68  48  57  13   3  99  99  55  71  31  87  75  94\n",
      "   9  62  81  78  98  31  83  36  31  43  79  54  63  45  18  65   4  30\n",
      "  52  34  38  52   5  14  87  10  35  24  99  93  92  56  25  29  41 100\n",
      "  28  76  59  16  31  18  54  44  58  38  56  97  26  33  92  71  26   7\n",
      "  45  70  34  99  42  71   9  56  69   2  89  13   6 100  94  32  11  76\n",
      "  50  66  21  33  85  95   2  42  62  23  94   6  80  85  42  21  87  71\n",
      "  14   5  88  57  99  77  31  74   3  75  94  95   3  64  16  79  48  21\n",
      "  72  58  49  46   9  47   3  41  10  95  15  66  64  99  83  49  95  31\n",
      "  29   4  18   4   6  91  11  60  55  78   9  84  79  58  87   1  51  30\n",
      "  28  81  42   3  73  23  77  41  95  32  29  12  14  19  58  19  18  55\n",
      "  20  66  11  66  61  11   8  26  11  76  34  35  35  10 100  43  55  54\n",
      "  95   7  95  45   7  36  40  13  27  47  68  35  26  80  88  28  38  89\n",
      "  27   6   4  48  39  59  28  45  67  62  52  51  58  80  75  99  47  91\n",
      "  64  28  57  35  34  55  51 100  15  72  89  12  11  70  82  19  28   6\n",
      "  19  61  73  68  62  74  32  56  98  39  67  93  78  29  92  37  88  89\n",
      "  52  36  27  71  27  12   6  20  80  89  59  17   2  62   4  15  55  29\n",
      "  49  70  87  63  27  79  67  23  29  59  48  29  36   1  71  67   3  86\n",
      "  79  86  62  90  81   4  88  76  55   8  33  72  96  16  33  19  63  27\n",
      "  41  46  94   4  61  75  97  64  76  86  80  45  98  25  91  81  79  13\n",
      "  54  58   8  27  35  85  34  45  98  86  65  56  37  28  98  54  36  84\n",
      "  99  95  32  89  97  72  71  12  84  50  71  45  67  84   8  59  51  40\n",
      "  97  39  57  55  44  97  99  97  73  34  83  46  60  62  40  93  20  91\n",
      "  92  46  98  26  43  14  80  75  43  35  53   1  41  18  73  29  28  84\n",
      "  51  44   8  42 100  99  62  74  68  36  67  79  92  50  58  72  10  73\n",
      "  50  78  62  10  97   9  75  60  82   2   8  90  40  67  59  23  52   3\n",
      "  45  22  57   6  41  66  40   2  59  52  19  80  71  93  96  10  17  63\n",
      "  79  46  81  26  38  39  79  51  96  11  12  71  74  62  57   3 100  80\n",
      "   8  85  32  28   7  50 100  81  90  87   1  16  75  71  14  57  30  27\n",
      "  14  89  54  42  32  66   1  31  88  85  21  63  36  35  50  56  81  66\n",
      "   9  27  35  81  90 100   5  70   1  39  99  82  50  15  60  12   3  53\n",
      "  43  98   5  16  59  66  71  64  99  20  79  36  70   4  38  82  76  56\n",
      "  16  20  36  61  45  60  81  13  77  12  69   2  53  64  90  71  76  27\n",
      "  51  37  46  32  28   4  67  51  79  64  75  15  79  60  24  84  11  20\n",
      "  42  25  46  32   6  28   8  97  37  85  27   3  10  17  29  35  21  30\n",
      "  14  15  86  91  57  94  96  75 100  76  29  18  56   1  70  48  68  37\n",
      " 100  61  55  60  72  53  40  67   4   8  41  27   4   8  42  20   9  38\n",
      "  89   0   6  22  34  46  41  49  56  95   2  92  70  94  31  36  68  86\n",
      "  41  24  99  17  24   2  64  80  76 100  94  88  49  27  10  21   6  18\n",
      "  47  23  79  90  85  25  17  89  12  71  10  16  13  28  55  25  31  75\n",
      "  50  36   0  14  26   6  84   7   0  69]\n"
     ]
    }
   ],
   "source": [
    "import random\n",
    "#random 1000 x points\n",
    "x=[]\n",
    "n=1000\n",
    "for i in range(n):\n",
    "\tx.append(random.randint(0,100))\n",
    "\n",
    "x=np.array(x)\n",
    "print(x)"
   ]
  },
  {
   "cell_type": "code",
   "execution_count": 40,
   "id": "a19efbb3",
   "metadata": {},
   "outputs": [
    {
     "name": "stdout",
     "output_type": "stream",
     "text": [
      "[4 7 2 7 5 8 6 5 1 6 4 4 1 5 5 9 9 4 7 3 2 4 8 4 3 5 8 9 1 6 0 8 3 9 8 9 0\n",
      " 9 5 6 1 2 4 0 9 0 4 0 0 0 7 1 9 9 8 4 8 7 4 2 3 2 0 9 3 4 4 1 9 9 5 9 1 5\n",
      " 3 6 8 9 4 0 4 1 5 9 0 6 2 9 4 9 8 7 3 1 7 4 5 7 8 5 7 0 5 1 3 3 7 4 3 1 8\n",
      " 3 7 8 3 7 6 3 6 0 4 9 3 7 0 6 7 8 8 4 9 3 7 2 1 5 6 2 4 0 8 3 0 8 8 8 4 4\n",
      " 3 7 9 1 1 9 0 9 9 7 0 6 4 6 7 1 1 7 9 8 6 0 6 7 4 9 5 1 9 7 1 1 8 8 4 8 8\n",
      " 8 2 1 1 2 9 2 9 2 9 3 3 1 0 0 2 3 6 1 1 5 5 5 7 3 3 8 7 2 4 7 3 5 2 1 2 4\n",
      " 5 2 2 6 5 3 4 9 2 8 6 3 7 2 3 5 9 2 3 3 6 8 2 1 6 2 8 9 1 2 5 9 2 4 6 9 1\n",
      " 1 1 4 3 3 6 7 6 4 2 6 6 6 4 0 8 0 0 5 0 2 3 8 8 2 3 6 9 7 8 4 9 6 4 1 3 7\n",
      " 2 1 0 5 1 6 5 8 7 7 0 5 6 5 8 5 1 5 8 8 5 0 3 9 0 3 6 2 4 7 8 7 6 7 9 5 4\n",
      " 4 8 2 7 0 3 4 0 0 7 1 1 1 9 3 5 4 5 1 4 7 1 5 6 9 1 9 5 8 9 5 0 1 4 7 8 4\n",
      " 1 1 9 7 6 0 6 9 9 7 4 0 2 0 5 3 6 1 4 1 5 4 5 7 9 9 3 8 5 6 9 9 9 2 7 5 1\n",
      " 1 8 2 1 3 5 5 5 7 7 0 6 1 8 6 6 5 7 8 3 1 5 1 2 9 9 6 6 1 3 6 2 7 0 6 4 3\n",
      " 8 7 5 5 0 4 0 9 8 3 9 1 7 5 6 2 5 7 3 2 3 9 4 1 5 4 1 0 3 0 6 2 9 6 3 9 6\n",
      " 8 4 7 0 8 4 6 1 3 8 3 9 0 4 1 4 8 7 1 3 8 1 2 6 2 9 4 9 9 5 3 7 8 0 3 3 5\n",
      " 9 6 4 9 4 5 2 2 1 9 3 6 6 3 5 9 5 8 9 0 6 4 2 7 4 9 5 3 6 1 9 1 2 3 6 5 9\n",
      " 0 9 1 8 1 4 2 5 0 5 6 7 9 7 6 0 2 5 0 9 2 0 1 7 3 0 6 3 8 8 9 7 6 4 5 0 3\n",
      " 9 6 1 3 9 0 7 6 7 0 2 5 1 5 0 7 4 7 3 0 7 0 5 2 4 9 9 2 0 7 8 0 4 0 2 8 7\n",
      " 4 2 8 5 1 9 4 7 8 0 1 7 9 3 3 6 8 8 5 1 7 5 6 5 9 3 1 2 6 7 4 4 6 0 6 1 5\n",
      " 8 9 7 1 9 3 2 2 0 1 7 6 6 8 9 4 5 6 1 5 1 6 1 5 1 1 0 9 0 4 2 1 2 7 7 8 9\n",
      " 8 8 2 4 8 3 2 3 0 1 5 0 7 9 2 6 7 9 6 0 2 9 0 7 1 4 7 7 0 0 2 7 0 4 3 6 7\n",
      " 9 3 6 0 7 1 1 8 4 5 7 9 4 0 7 6 0 9 3 9 5 6 9 6 0 3 1 6 2 6 9 1 9 2 7 7 0\n",
      " 5 1 5 4 3 3 3 2 5 3 8 4 3 0 1 1 9 1 9 5 1 6 8 6 9 2 8 4 1 5 6 9 8 5 1 0 6\n",
      " 0 0 3 6 2 6 7 8 1 0 1 9 4 2 6 4 2 5 0 2 1 2 2 9 8 7 0 9 8 5 3 7 2 0 8 9 8\n",
      " 1 5 6 1 7 4 9 5 6 2 9 0 6 5 8 9 8 9 7 9 9 5 6 0 9 0 1 9 1 6 2 9 1 2 7 0 2\n",
      " 6 0 5 9 9 5 6 2 7 4 7 3 2 9 9 1 4 4 2 8 6 9 5 1 1 7 6 9 8 3 4 4 6 2 5 6 6\n",
      " 3 0 2 4 6 9 0 1 4 6 7 6 7 9 3 8 2 8 0 4 4 6 5 7 7 4 3 3 0 4 7 2 6 4 7 1 2\n",
      " 2 7 2 2 6 5 7 2 9 7 7 4 0 4 9 6 5 8 8 0 5 2 6 3 2 0 9 9 7 6 7 9 0 1 5 7 0\n",
      " 4]\n"
     ]
    }
   ],
   "source": [
    "import random\n",
    "#Random 1000 y points\n",
    "y=[]\n",
    "n=1000\n",
    "for i in range(n):\n",
    "\ty.append(random.randint(0,9))\n",
    "y=np.array(y)    \n",
    "print(y)"
   ]
  },
  {
   "cell_type": "code",
   "execution_count": 41,
   "id": "9080562e",
   "metadata": {},
   "outputs": [],
   "source": [
    "data= list(zip(x,y))"
   ]
  },
  {
   "cell_type": "code",
   "execution_count": 42,
   "id": "a40b9748",
   "metadata": {},
   "outputs": [],
   "source": [
    "df = pd.DataFrame(data,columns=[\"x\",\"y\"])"
   ]
  },
  {
   "cell_type": "code",
   "execution_count": 43,
   "id": "5f2cb24d",
   "metadata": {},
   "outputs": [
    {
     "data": {
      "text/html": [
       "<div>\n",
       "<style scoped>\n",
       "    .dataframe tbody tr th:only-of-type {\n",
       "        vertical-align: middle;\n",
       "    }\n",
       "\n",
       "    .dataframe tbody tr th {\n",
       "        vertical-align: top;\n",
       "    }\n",
       "\n",
       "    .dataframe thead th {\n",
       "        text-align: right;\n",
       "    }\n",
       "</style>\n",
       "<table border=\"1\" class=\"dataframe\">\n",
       "  <thead>\n",
       "    <tr style=\"text-align: right;\">\n",
       "      <th></th>\n",
       "      <th>x</th>\n",
       "      <th>y</th>\n",
       "    </tr>\n",
       "  </thead>\n",
       "  <tbody>\n",
       "    <tr>\n",
       "      <th>0</th>\n",
       "      <td>38</td>\n",
       "      <td>4</td>\n",
       "    </tr>\n",
       "    <tr>\n",
       "      <th>1</th>\n",
       "      <td>0</td>\n",
       "      <td>7</td>\n",
       "    </tr>\n",
       "    <tr>\n",
       "      <th>2</th>\n",
       "      <td>0</td>\n",
       "      <td>2</td>\n",
       "    </tr>\n",
       "    <tr>\n",
       "      <th>3</th>\n",
       "      <td>14</td>\n",
       "      <td>7</td>\n",
       "    </tr>\n",
       "    <tr>\n",
       "      <th>4</th>\n",
       "      <td>53</td>\n",
       "      <td>5</td>\n",
       "    </tr>\n",
       "    <tr>\n",
       "      <th>...</th>\n",
       "      <td>...</td>\n",
       "      <td>...</td>\n",
       "    </tr>\n",
       "    <tr>\n",
       "      <th>995</th>\n",
       "      <td>6</td>\n",
       "      <td>1</td>\n",
       "    </tr>\n",
       "    <tr>\n",
       "      <th>996</th>\n",
       "      <td>84</td>\n",
       "      <td>5</td>\n",
       "    </tr>\n",
       "    <tr>\n",
       "      <th>997</th>\n",
       "      <td>7</td>\n",
       "      <td>7</td>\n",
       "    </tr>\n",
       "    <tr>\n",
       "      <th>998</th>\n",
       "      <td>0</td>\n",
       "      <td>0</td>\n",
       "    </tr>\n",
       "    <tr>\n",
       "      <th>999</th>\n",
       "      <td>69</td>\n",
       "      <td>4</td>\n",
       "    </tr>\n",
       "  </tbody>\n",
       "</table>\n",
       "<p>1000 rows × 2 columns</p>\n",
       "</div>"
      ],
      "text/plain": [
       "      x  y\n",
       "0    38  4\n",
       "1     0  7\n",
       "2     0  2\n",
       "3    14  7\n",
       "4    53  5\n",
       "..   .. ..\n",
       "995   6  1\n",
       "996  84  5\n",
       "997   7  7\n",
       "998   0  0\n",
       "999  69  4\n",
       "\n",
       "[1000 rows x 2 columns]"
      ]
     },
     "execution_count": 43,
     "metadata": {},
     "output_type": "execute_result"
    }
   ],
   "source": [
    "df"
   ]
  },
  {
   "cell_type": "code",
   "execution_count": 44,
   "id": "d1fd79ae",
   "metadata": {},
   "outputs": [],
   "source": [
    "#splitting data using sklearn\n",
    "from sklearn.model_selection import train_test_split\n",
    "x_train,x_test,y_train,y_test = train_test_split(x,y,test_size=0.30,random_state=6)"
   ]
  },
  {
   "cell_type": "code",
   "execution_count": 45,
   "id": "36ba2139",
   "metadata": {},
   "outputs": [
    {
     "data": {
      "text/plain": [
       "array([0, 8, 3, 6, 1, 2, 4, 3, 6, 1, 6, 1, 7, 7, 5, 6, 7, 0, 7, 9, 9, 6,\n",
       "       8, 5, 4, 4, 9, 6, 2, 9, 1, 5, 1, 5, 0, 3, 3, 9, 8, 7, 7, 1, 7, 6,\n",
       "       7, 5, 1, 5, 0, 7, 2, 8, 5, 2, 4, 5, 8, 8, 5, 8, 0, 8, 5, 5, 2, 1,\n",
       "       1, 6, 6, 6, 7, 9, 7, 1, 0, 2, 9, 7, 3, 6, 3, 5, 5, 1, 6, 9, 9, 5,\n",
       "       9, 4, 7, 1, 8, 4, 1, 6, 9, 0, 0, 6, 2, 7, 4, 6, 2, 4, 9, 6, 1, 3,\n",
       "       5, 3, 1, 2, 1, 7, 8, 1, 7, 9, 9, 0, 6, 6, 9, 9, 5, 0, 8, 6, 6, 9,\n",
       "       0, 4, 1, 5, 6, 6, 0, 7, 6, 5, 1, 7, 9, 4, 9, 6, 3, 9, 3, 7, 4, 2,\n",
       "       0, 5, 9, 4, 7, 6, 0, 4, 7, 4, 4, 5, 0, 4, 9, 6, 6, 4, 8, 0, 5, 6,\n",
       "       5, 8, 2, 1, 9, 7, 2, 9, 6, 7, 2, 5, 1, 5, 2, 9, 5, 3, 9, 7, 5, 6,\n",
       "       9, 3, 9, 4, 5, 3, 1, 9, 6, 0, 0, 7, 2, 6, 9, 0, 7, 7, 4, 6, 3, 9,\n",
       "       2, 6, 4, 0, 5, 7, 1, 9, 2, 4, 0, 0, 8, 0, 4, 5, 5, 0, 0, 5, 9, 0,\n",
       "       4, 9, 9, 8, 7, 4, 8, 0, 3, 9, 6, 8, 8, 1, 8, 8, 9, 0, 9, 9, 1, 5,\n",
       "       6, 2, 3, 0, 1, 6, 9, 2, 7, 3, 0, 5, 3, 2, 2, 9, 2, 4, 1, 6, 7, 8,\n",
       "       7, 5, 9, 2, 6, 4, 7, 8, 4, 1, 9, 7, 9, 4, 2, 7, 2, 8, 2, 8, 1, 0,\n",
       "       8, 6, 3, 2, 2, 9, 6, 2, 4, 4, 4, 3, 1, 3, 4, 8, 7, 1, 9, 7, 9, 5,\n",
       "       7, 9, 5, 0, 2, 9, 7, 3, 0, 3, 6, 3, 9, 2, 6, 3, 6, 0, 7, 7, 8, 8,\n",
       "       0, 2, 9, 9, 9, 3, 8, 8, 2, 3, 9, 1, 0, 0, 9, 1, 2, 1, 0, 7, 4, 3,\n",
       "       9, 2, 1, 4, 7, 3, 6, 1, 8, 5, 5, 2, 2, 8, 4, 2, 7, 2, 8, 8, 7, 0,\n",
       "       9, 5, 1, 7, 4, 5, 2, 0, 0, 4, 8, 5, 5, 8, 7, 4, 5, 9, 3, 4, 5, 3,\n",
       "       8, 1, 9, 0, 9, 2, 0, 3, 6, 6, 8, 2, 8, 3, 0, 0, 4, 5, 2, 7, 3, 8,\n",
       "       5, 4, 1, 1, 5, 8, 5, 9, 7, 1, 5, 6, 9, 4, 3, 7, 2, 2, 6, 2, 1, 6,\n",
       "       3, 7, 3, 2, 3, 1, 3, 0, 7, 7, 6, 1, 1, 2, 6, 9, 6, 4, 4, 9, 3, 0,\n",
       "       1, 4, 3, 9, 0, 6, 5, 8, 9, 3, 4, 2, 6, 2, 7, 7, 7, 7, 0, 9, 5, 7,\n",
       "       3, 7, 9, 5, 6, 9, 5, 1, 7, 8, 7, 0, 6, 4, 1, 4, 8, 0, 7, 2, 5, 7,\n",
       "       9, 9, 3, 1, 7, 0, 6, 6, 1, 4, 0, 2, 1, 0, 6, 1, 1, 1, 7, 4, 5, 0,\n",
       "       4, 1, 6, 8, 8, 6, 5, 6, 4, 7, 3, 9, 4, 6, 5, 6, 6, 4, 2, 2, 1, 0,\n",
       "       4, 9, 4, 2, 2, 0, 6, 3, 1, 1, 4, 1, 7, 2, 9, 6, 5, 3, 3, 0, 2, 7,\n",
       "       0, 3, 7, 0, 1, 5, 7, 5, 7, 5, 2, 9, 9, 6, 9, 0, 0, 6, 4, 5, 2, 6,\n",
       "       8, 2, 3, 9, 9, 3, 0, 9, 1, 4, 9, 6, 7, 5, 4, 0, 5, 4, 8, 0, 2, 1,\n",
       "       9, 7, 7, 8, 9, 0, 2, 6, 0, 7, 7, 0, 3, 7, 0, 4, 9, 6, 8, 9, 9, 0,\n",
       "       7, 6, 6, 8, 1, 3, 2, 7, 0, 9, 1, 8, 9, 0, 8, 1, 9, 6, 6, 4, 8, 4,\n",
       "       6, 1, 8, 1, 4, 6, 8, 8, 3, 8, 9, 2, 1, 9, 8, 3, 5, 2])"
      ]
     },
     "execution_count": 45,
     "metadata": {},
     "output_type": "execute_result"
    }
   ],
   "source": [
    "y_train"
   ]
  },
  {
   "cell_type": "code",
   "execution_count": 46,
   "id": "bd929302",
   "metadata": {},
   "outputs": [],
   "source": [
    "x_mean=x_train.mean()"
   ]
  },
  {
   "cell_type": "code",
   "execution_count": 47,
   "id": "599a75e4",
   "metadata": {},
   "outputs": [
    {
     "data": {
      "text/plain": [
       "49.392857142857146"
      ]
     },
     "execution_count": 47,
     "metadata": {},
     "output_type": "execute_result"
    }
   ],
   "source": [
    "x_mean"
   ]
  },
  {
   "cell_type": "code",
   "execution_count": 48,
   "id": "ef33d064",
   "metadata": {},
   "outputs": [],
   "source": [
    "y_mean=y_train.mean()"
   ]
  },
  {
   "cell_type": "code",
   "execution_count": 49,
   "id": "297d4906",
   "metadata": {},
   "outputs": [
    {
     "data": {
      "text/plain": [
       "4.677142857142857"
      ]
     },
     "execution_count": 49,
     "metadata": {},
     "output_type": "execute_result"
    }
   ],
   "source": [
    "y_mean"
   ]
  },
  {
   "cell_type": "code",
   "execution_count": 50,
   "id": "3cc9e841",
   "metadata": {},
   "outputs": [],
   "source": [
    "l=len(x_train)"
   ]
  },
  {
   "cell_type": "code",
   "execution_count": 51,
   "id": "4b9d7aae",
   "metadata": {},
   "outputs": [],
   "source": [
    "num=0\n",
    "den=0"
   ]
  },
  {
   "cell_type": "code",
   "execution_count": 52,
   "id": "02e4c3c0",
   "metadata": {},
   "outputs": [],
   "source": [
    "for i in range(l):\n",
    "    num=num+((x_train[i]-x_mean)*(y_train[i]-y_mean))\n",
    "    den=den+((x_train[i]-x_mean)**2)\n",
    "m=num/den"
   ]
  },
  {
   "cell_type": "code",
   "execution_count": 53,
   "id": "bdc074ad",
   "metadata": {},
   "outputs": [
    {
     "name": "stdout",
     "output_type": "stream",
     "text": [
      "-0.00014881220302016476\n"
     ]
    }
   ],
   "source": [
    "#slope\n",
    "print(m)"
   ]
  },
  {
   "cell_type": "code",
   "execution_count": 54,
   "id": "f9453cb9",
   "metadata": {},
   "outputs": [
    {
     "name": "stdout",
     "output_type": "stream",
     "text": [
      "4.6844931170277455\n"
     ]
    }
   ],
   "source": [
    "#intercept\n",
    "c=y_mean-(m*x_mean)\n",
    "print(c)"
   ]
  },
  {
   "cell_type": "code",
   "execution_count": 55,
   "id": "d3b31246",
   "metadata": {},
   "outputs": [
    {
     "data": {
      "text/plain": [
       "[<matplotlib.lines.Line2D at 0x14b0dc48d00>]"
      ]
     },
     "execution_count": 55,
     "metadata": {},
     "output_type": "execute_result"
    },
    {
     "data": {
      "image/png": "[encoded data removed]",
      "text/plain": [
       "<Figure size 640x480 with 1 Axes>"
      ]
     },
     "metadata": {},
     "output_type": "display_data"
    }
   ],
   "source": [
    "#plotting\n",
    "plt.scatter(x_train,y_train)\n",
    "plt.plot(x_train,m*x_train+c)"
   ]
  },
  {
   "cell_type": "code",
   "execution_count": 56,
   "id": "c5e0f939",
   "metadata": {},
   "outputs": [],
   "source": [
    "y_pred=m*x_test+c"
   ]
  },
  {
   "cell_type": "code",
   "execution_count": 57,
   "id": "b0fe8fe3",
   "metadata": {},
   "outputs": [
    {
     "data": {
      "text/plain": [
       "array([4.68196331, 4.67601082, 4.67318339, 4.67601082, 4.68285618,\n",
       "       4.67675488, 4.67273695, 4.67705251, 4.68121925, 4.67779657,\n",
       "       4.6733322 , 4.68404668, 4.68315381, 4.68002875, 4.68374906,\n",
       "       4.67645726, 4.68360024, 4.67601082, 4.67496914, 4.67050477,\n",
       "       4.68032638, 4.67258814, 4.67035596, 4.67630845, 4.67913588,\n",
       "       4.68017756, 4.67839182, 4.68389787, 4.68255856, 4.67243933,\n",
       "       4.66990952, 4.67243933, 4.67243933, 4.67496914, 4.68226093,\n",
       "       4.67839182, 4.68270737, 4.67392745, 4.68330262, 4.67035596,\n",
       "       4.6733322 , 4.68300499, 4.67511795, 4.67080239, 4.67496914,\n",
       "       4.67243933, 4.68360024, 4.67615963, 4.68330262, 4.67973113,\n",
       "       4.67541557, 4.68404668, 4.67243933, 4.6843443 , 4.6757132 ,\n",
       "       4.66976071, 4.67095121, 4.68107044, 4.67437389, 4.68345143,\n",
       "       4.678243  , 4.68136806, 4.67154646, 4.67913588, 4.68315381,\n",
       "       4.67883825, 4.68270737, 4.67110002, 4.67005833, 4.67392745,\n",
       "       4.6794335 , 4.6696119 , 4.67258814, 4.68032638, 4.66976071,\n",
       "       4.67913588, 4.66990952, 4.67095121, 4.67556438, 4.67392745,\n",
       "       4.67690369, 4.67660607, 4.67273695, 4.67422508, 4.67526676,\n",
       "       4.67809419, 4.67496914, 4.67541557, 4.67229052, 4.67422508,\n",
       "       4.6745227 , 4.67154646, 4.68017756, 4.68226093, 4.67556438,\n",
       "       4.6794335 , 4.67556438, 4.68032638, 4.6745227 , 4.68300499,\n",
       "       4.67362983, 4.67407626, 4.67973113, 4.68211212, 4.67809419,\n",
       "       4.67348101, 4.68285618, 4.67526676, 4.68151687, 4.67392745,\n",
       "       4.67987994, 4.67362983, 4.67645726, 4.67035596, 4.6757132 ,\n",
       "       4.67735013, 4.67764776, 4.67705251, 4.67065358, 4.66990952,\n",
       "       4.67586201, 4.68449312, 4.67482032, 4.67124883, 4.6843443 ,\n",
       "       4.67898707, 4.67467151, 4.6745227 , 4.67645726, 4.67258814,\n",
       "       4.67035596, 4.68449312, 4.68047519, 4.67541557, 4.67467151,\n",
       "       4.67556438, 4.67883825, 4.67020715, 4.680624  , 4.67794538,\n",
       "       4.68136806, 4.67645726, 4.67124883, 4.68360024, 4.68330262,\n",
       "       4.67601082, 4.67630845, 4.67779657, 4.67273695, 4.67973113,\n",
       "       4.67139764, 4.67110002, 4.67720132, 4.68032638, 4.66976071,\n",
       "       4.67273695, 4.67020715, 4.6794335 , 4.68300499, 4.67303458,\n",
       "       4.67318339, 4.67407626, 4.68092162, 4.68240975, 4.67124883,\n",
       "       4.6733322 , 4.68166569, 4.67273695, 4.67839182, 4.67169527,\n",
       "       4.67898707, 4.67839182, 4.68166569, 4.67407626, 4.6843443 ,\n",
       "       4.67973113, 4.67615963, 4.67243933, 4.68404668, 4.67199289,\n",
       "       4.67467151, 4.67377864, 4.67928469, 4.67154646, 4.67169527,\n",
       "       4.6721417 , 4.68389787, 4.68285618, 4.68047519, 4.66976071,\n",
       "       4.67705251, 4.6696119 , 4.68032638, 4.68389787, 4.67883825,\n",
       "       4.67720132, 4.67199289, 4.68315381, 4.67854063, 4.6757132 ,\n",
       "       4.68404668, 4.68360024, 4.67362983, 4.67705251, 4.67660607,\n",
       "       4.67601082, 4.67318339, 4.68270737, 4.66976071, 4.67586201,\n",
       "       4.68077281, 4.67645726, 4.67690369, 4.68151687, 4.6696119 ,\n",
       "       4.67928469, 4.678243  , 4.67660607, 4.67883825, 4.67377864,\n",
       "       4.67199289, 4.67407626, 4.67794538, 4.67958231, 4.67839182,\n",
       "       4.6745227 , 4.68449312, 4.67883825, 4.66976071, 4.67675488,\n",
       "       4.67050477, 4.68240975, 4.67556438, 4.67675488, 4.67080239,\n",
       "       4.67080239, 4.68255856, 4.68107044, 4.67526676, 4.67318339,\n",
       "       4.67139764, 4.68374906, 4.67690369, 4.68226093, 4.6818145 ,\n",
       "       4.67392745, 4.68345143, 4.66976071, 4.67273695, 4.67526676,\n",
       "       4.68374906, 4.67511795, 4.67035596, 4.67973113, 4.67839182,\n",
       "       4.6696119 , 4.67437389, 4.68211212, 4.6696119 , 4.67913588,\n",
       "       4.68107044, 4.67779657, 4.68449312, 4.6733322 , 4.67556438,\n",
       "       4.66976071, 4.68330262, 4.67630845, 4.68121925, 4.67184408,\n",
       "       4.67169527, 4.67749894, 4.68032638, 4.67630845, 4.66976071,\n",
       "       4.67556438, 4.6745227 , 4.67258814, 4.67958231, 4.67035596,\n",
       "       4.67958231, 4.68077281, 4.67586201, 4.68047519, 4.68017756,\n",
       "       4.67169527, 4.68151687, 4.66976071, 4.67392745, 4.67928469,\n",
       "       4.67690369, 4.67139764, 4.68374906, 4.67243933, 4.67110002,\n",
       "       4.68270737, 4.66990952, 4.67422508, 4.67854063, 4.67690369])"
      ]
     },
     "execution_count": 57,
     "metadata": {},
     "output_type": "execute_result"
    }
   ],
   "source": [
    "y_pred"
   ]
  },
  {
   "cell_type": "code",
   "execution_count": 58,
   "id": "500c5d7f",
   "metadata": {},
   "outputs": [],
   "source": [
    "e=(y_test-y_pred)"
   ]
  },
  {
   "cell_type": "code",
   "execution_count": 59,
   "id": "97f2cfb6",
   "metadata": {},
   "outputs": [
    {
     "name": "stdout",
     "output_type": "stream",
     "text": [
      "[ 0.31803669  3.32398918  4.32681661  1.32398918 -2.68285618 -0.67675488\n",
      " -3.67273695  2.32294749 -1.68121925  4.32220343 -3.6733322  -0.68404668\n",
      " -0.68315381 -1.68002875 -1.68374906 -4.67645726 -0.68360024 -3.67601082\n",
      "  0.32503086 -0.67050477  0.31967362  4.32741186 -2.67035596 -3.67630845\n",
      " -0.67913588  2.31982244 -4.67839182 -3.68389787 -4.68255856 -4.67243933\n",
      " -0.66990952  1.32756067 -0.67243933 -0.67496914 -0.68226093  4.32160818\n",
      " -0.68270737 -4.67392745  2.31669738 -0.67035596 -4.6733322  -2.68300499\n",
      "  3.32488205 -4.67080239  1.32503086  3.32756067 -3.68360024  1.32384037\n",
      "  1.31669738 -4.67973113 -0.67541557  3.31595332  1.32756067 -3.6843443\n",
      " -3.6757132  -1.66976071 -4.67095121  4.31892956 -0.67437389 -1.68345143\n",
      " -1.678243    2.31863194  4.32845354  3.32086412 -0.68315381  4.32116175\n",
      "  2.31729263  4.32889998  0.32994167 -4.67392745 -0.6794335  -0.6696119\n",
      "  0.32741186 -3.68032638  4.33023929 -1.67913588 -3.66990952  1.32904879\n",
      " -3.67556438 -4.67392745  4.32309631  0.32339393 -4.67273695 -0.67422508\n",
      "  4.32473324  1.32190581 -2.67496914  3.32458443 -3.67229052  3.32577492\n",
      "  3.3254773   2.32845354 -1.68017756 -3.68226093 -2.67556438  4.3205665\n",
      "  1.32443562 -1.68032638 -1.6745227   0.31699501 -0.67362983 -3.67407626\n",
      " -2.67973113  2.31788788  3.32190581 -2.67348101 -3.68285618  0.32473324\n",
      "  0.31848313  4.32607255  0.32012006 -4.67362983 -3.67645726  2.32964404\n",
      "  2.3242868  -3.67735013  4.32235224  3.32294749 -0.67065358 -4.66990952\n",
      "  4.32413799 -2.68449312 -2.67482032  3.32875117 -0.6843443  -1.67898707\n",
      " -4.67467151  2.3254773   3.32354274  2.32741186 -3.67035596 -3.68449312\n",
      "  4.31952481 -1.67541557 -2.67467151 -3.67556438 -0.67883825 -1.67020715\n",
      " -4.680624    4.32205462 -2.68136806  0.32354274  1.32875117 -2.68360024\n",
      " -1.68330262 -2.67601082 -4.67630845 -1.67779657  1.32726305  0.32026887\n",
      "  4.32860236 -2.67110002  2.32279868  0.31967362  0.33023929  2.32726305\n",
      "  1.32979285 -1.6794335   3.31699501 -3.67303458 -2.67318339  3.32592374\n",
      "  4.31907838  0.31759025 -3.67124883 -1.6733322   4.31833431  0.32726305\n",
      " -0.67839182  2.32830473  3.32101293  3.32160818 -2.68166569  1.32592374\n",
      " -2.6843443  -4.67973113  2.32384037 -1.67243933  3.31595332 -1.67199289\n",
      " -4.67467151  0.32622136  3.32071531  1.32845354  4.32830473  1.3278583\n",
      " -2.68389787  1.31714382  0.31952481  3.33023929 -3.67705251  4.3303881\n",
      "  2.31967362  4.31610213  3.32116175 -4.67720132  0.32800711  0.31684619\n",
      " -3.67854063 -4.6757132  -3.68404668  4.31639976 -2.67362983  4.32294749\n",
      " -0.67660607  4.32398918 -1.67318339 -3.68270737  2.33023929  2.32413799\n",
      "  1.31922719 -3.67645726 -1.67690369  2.31848313  1.3303881  -0.67928469\n",
      "  3.321757   -4.67660607 -3.67883825 -1.67377864  0.32800711  1.32592374\n",
      "  4.32205462 -1.67958231  1.32160818 -2.6745227   2.31550688 -2.67883825\n",
      " -3.66976071  3.32324512 -0.67050477 -1.68240975  2.32443562 -4.67675488\n",
      "  1.32919761  0.32919761 -3.68255856  3.31892956 -1.67526676 -4.67318339\n",
      " -2.67139764 -2.68374906  0.32309631 -0.68226093 -2.6818145   4.32607255\n",
      "  4.31654857  3.33023929  3.32726305 -4.67526676 -1.68374906 -1.67511795\n",
      " -3.67035596  3.32026887 -2.67839182  2.3303881  -1.67437389 -1.68211212\n",
      " -0.6696119  -4.67913588 -3.68107044  0.32220343  2.31550688  0.3266678\n",
      " -3.67556438  0.33023929  3.31669738  1.32369155 -1.68121925  2.32815592\n",
      " -1.67169527  0.32250106  0.31967362 -2.67630845 -3.66976071 -3.67556438\n",
      "  4.3254773   0.32741186 -1.67958231 -3.67035596 -4.67958231 -3.68077281\n",
      "  1.32413799  1.31952481  4.31982244  2.32830473  0.31848313  4.33023929\n",
      " -3.67392745 -0.67928469  1.32309631  0.32860236  1.31625094 -3.67243933\n",
      "  1.32889998  2.31729263 -0.66990952  0.32577492  4.32145937  4.32309631]\n"
     ]
    }
   ],
   "source": [
    "print(e)"
   ]
  },
  {
   "cell_type": "code",
   "execution_count": 60,
   "id": "9a6369f3",
   "metadata": {},
   "outputs": [],
   "source": [
    "mse=(((e)**2)/l).sum()"
   ]
  },
  {
   "cell_type": "code",
   "execution_count": 61,
   "id": "2e08f676",
   "metadata": {},
   "outputs": [],
   "source": [
    "rmse=math.sqrt(mse)"
   ]
  },
  {
   "cell_type": "code",
   "execution_count": 62,
   "id": "033bb167",
   "metadata": {},
   "outputs": [
    {
     "name": "stdout",
     "output_type": "stream",
     "text": [
      "1.902047462819707\n"
     ]
    }
   ],
   "source": [
    "print(rmse)"
   ]
  },
  {
   "cell_type": "code",
   "execution_count": 63,
   "id": "5f85aa4e",
   "metadata": {},
   "outputs": [],
   "source": [
    "lr=0.01\n",
    "iterations=50\n",
    "error=[]"
   ]
  },
  {
   "cell_type": "code",
   "execution_count": 64,
   "id": "4a0752ff",
   "metadata": {},
   "outputs": [],
   "source": [
    "for i in range(iterations):\n",
    "    cost=0\n",
    "    cost_c=0\n",
    "    cost_m=0\n",
    "    y_pred1=(c+m*x_test[i])\n",
    "    cost=cost+(y_test[i]-y_pred1)**2\n",
    "    partial_c=2*(y_test[i]-(c+m*x_test[i]))\n",
    "    partial_m=2*(y_test[i]-(c+m*x_test[i]))\n",
    "    cost_c=cost_c+partial_c\n",
    "    cost_m=cost_m+partial_m   \n",
    "    c1=c1-lr*cost_c\n",
    "    m1=m1-lr*cost_m\n",
    "        \n",
    "    error.append(cost)"
   ]
  },
  {
   "cell_type": "code",
   "execution_count": 65,
   "id": "bdafc73e",
   "metadata": {},
   "outputs": [
    {
     "name": "stdout",
     "output_type": "stream",
     "text": [
      "-0.00014881220302016476\n"
     ]
    }
   ],
   "source": [
    "print(m)"
   ]
  },
  {
   "cell_type": "markdown",
   "id": "d9bcbb53",
   "metadata": {},
   "source": [
    "# Using sklearn"
   ]
  },
  {
   "cell_type": "code",
   "execution_count": 67,
   "id": "d593e845",
   "metadata": {},
   "outputs": [],
   "source": [
    "import sklearn"
   ]
  },
  {
   "cell_type": "code",
   "execution_count": 68,
   "id": "e1d3656a",
   "metadata": {},
   "outputs": [],
   "source": [
    "from sklearn.linear_model import LinearRegression\n",
    "reg = LinearRegression()\n",
    "reg.fit(x_train.reshape(-1,1),y_train)\n",
    "y_pre=reg.predict(x_test.reshape(-1,1))"
   ]
  },
  {
   "cell_type": "code",
   "execution_count": 69,
   "id": "7d7fbf71",
   "metadata": {},
   "outputs": [
    {
     "name": "stdout",
     "output_type": "stream",
     "text": [
      "4.684493117027746\n",
      "[-0.00014881]\n"
     ]
    }
   ],
   "source": [
    "print(reg.intercept_)\n",
    "print(reg.coef_)"
   ]
  },
  {
   "cell_type": "markdown",
   "id": "6b4bb8a4",
   "metadata": {},
   "source": [
    "we can see that the m and c values with gradient descent and sklearn are similar"
   ]
  }
 ],
 "metadata": {
  "kernelspec": {
   "display_name": "Python 3 (ipykernel)",
   "language": "python",
   "name": "python3"
  },
  "language_info": {
   "codemirror_mode": {
    "name": "ipython",
    "version": 3
   },
   "file_extension": ".py",
   "mimetype": "text/x-python",
   "name": "python",
   "nbconvert_exporter": "python",
   "pygments_lexer": "ipython3",
   "version": "3.9.12"
  }
 },
 "nbformat": 4,
 "nbformat_minor": 5
}
