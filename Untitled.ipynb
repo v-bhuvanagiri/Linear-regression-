{
 "cells": [
  {
   "cell_type": "code",
   "execution_count": 1,
   "id": "cda5b075",
   "metadata": {},
   "outputs": [],
   "source": [
    "import pandas as pd\n",
    "import numpy as np\n",
    "import matplotlib.pyplot as plt\n",
    "import math"
   ]
  },
  {
   "cell_type": "code",
   "execution_count": 2,
   "id": "5dcaa24b",
   "metadata": {},
   "outputs": [
    {
     "name": "stdout",
     "output_type": "stream",
     "text": [
      "[ 84  52  49  75  60  37  12  17  53  55  80  95  49  12  65   6  19  52\n",
      "  98  30   5  98   5  67  85   3   7  17  66  58  57   8  57  93  25  66\n",
      "  85  32  36  32  51  86  93  52  61  76  24  19  83  31  61  82   7  93\n",
      "  94  56  23  87  27  15  17  94  27  49  60  73  23  14   5  99  93  92\n",
      "  35  72   1  13 100  60  44  94   5  39  99  93  18  72  49   5  81  80\n",
      "  49  59  90  18  95  42  37  58  94  84  53  23  43  33  40  85  20  88\n",
      "  21  29  78  62  71   4  98  16  41  66  75   0  55 100  25   3  31  97\n",
      "  45  83  65   0  81  17  96  58  44  87 100  10  89   8  38  11  52   0\n",
      "  62  32  67  33  32  36  58  12  35  37  11  93   0  11  73  16  85  34\n",
      "  65  91  32   3 100  32  60  89  15  12  20  10   3   0  79  47  18  80\n",
      "  64  64  95  47  74  32  75  61   0  79  40  70  96  89  73  75  10  57\n",
      "   6  18  32  46  12  23  30  82  99  85  52   5   6  36  81  52  81  51\n",
      "  40  58   9  46  45  37  64  84  44  80  19  11  60  32  73  38  17  51\n",
      "  15  38  28  82  77  56  23  16  77  79   7  94   3  41  29  70  56  93\n",
      "  33  16   5  67  27  17  21  94  69  93  79  72   0  28  40  96  60  72\n",
      "  84  58  30  31  10  48  16   3  22  85  23  62  38  54  31  29  45  43\n",
      "  30  95  10  77  68  10  90  43   6  43  42  19  11  90  63  29  64  33\n",
      "  93  79  96 100  67  95  62   1  43  46  85  71  84  92  20  64  94  65\n",
      "  43  25  94   8  35  55  56  70  72  47   3  95  29  98  93  45  13  25\n",
      "   0  30  75  56  31  37  36  72  51  82  45  39  30   0   3  64  48  53\n",
      "  50  40  22  21  56  58  10  81  41  60  97  38  13  42  96  36   0   3\n",
      "  46   7  91  54  40  71  52  64  29  92  66  56  20  81  54  31  27  89\n",
      "  41  17  93  42  11  66  45  12  54  18  98  77  17  44  62  25   9  28\n",
      "  80  37   4  93  80  86  54  70  17  39  94  56  59  49  97  27  81  99\n",
      "  94  20  43  70  75  17  47  63  86   1  80  95 100  62  61  58  58  81\n",
      "  61  74  14  27  71  21  28  17  43   5  77  96  59  96   0   2  27  10\n",
      "  11  47  99  33  56  71  83  18  16  15  72  59  40  35  74  90  78  75\n",
      "  80  59  75  78  91  68  16  62  80  93  57  17  10  11   1  49  91  76\n",
      "  24  20   9  47  30  31  11  56  69   2  33  84  16  57  26  51  27  75\n",
      "  33  46  84  25  58   8  10  78   8  21  64  83  85   3  24  29  32  44\n",
      "  20  62  22  52  40  65  41  81  59  14  14  24  65   0  94  34   1  67\n",
      " 100  69  34  88  89  12  83   1  11  70  80  49  94  24  67   2  31  98\n",
      "   2  81  10  75  51  60  11  87  63  79  85  90 100   8  65  63  59  24\n",
      "  62  72  36  87  56  97  45  36   0  52   5  19  47  34   0  69  66 100\n",
      "   7   8  94  98  78  82   3  53  85  80  43  32  28  47  90 100  32  51\n",
      "  67  80  10  31  64  10  96  79   0  10  68  90  86  84  80  99  38  55\n",
      "  80  67  60  58  28  49  23  87  89  99  94  37  46  10  94  64  65  10\n",
      "   9  80  20  89  64  15  35  95  20  95  78  15   2  26  89  72   9  57\n",
      "  66  26  65  40  38  98  32  80   5  75  16 100  22  27  71  79  91  71\n",
      "  26  22  22  10  16  88  82   3  42  26  40  58   4  31  57  53  28  28\n",
      "  99  75  71  60  43   7  95  97  86  39  83  18  34  48  28  85  13  58\n",
      "  52  59  82  66  65  39  31  25  14  78  58  26  70  66   4  13  36   1\n",
      " 100  28   6  24  19  81  24   0  56  12  71  27  11  94  51  10  13  70\n",
      "   0  13  91   0  50   7  26   9  45  85  44 100   2  74  11  14  97  38\n",
      "   7  10  92  88  40  73  62  90  47  92  58  66  77  54 100  55  67  82\n",
      "  47  47   2  99  84  44  87  36  29  37  70  31  69   4  99  79  87  16\n",
      "  23  30  43  23  15  52  15  56  13   3   8  38  44   5  95   5  36  42\n",
      "  49  41  52   9  98  48  32  35   4  59  22  26  51  28  13  65  38  80\n",
      "  10  48   5   1  56  11  95  38  83  94  36  17  46   5  37  33  85  73\n",
      "  71  86 100  48  46  10  78   5  35  75  92  72  68  87   8  72  57  42\n",
      "  30  62  26  31  85   3   5  89  39  98  38  47  45  95  34  42  26   1\n",
      "  85  49  69  65  85  41  40   2  46  47  79  29  11   7   7 100  81  41\n",
      "   9  47  70  86  29  98  30  58  59  72  96 100  36  70  65  84  34  39\n",
      "  91  80  43  45  35  25  67  13  56   3  48  25   4  72  46  99  57  86\n",
      "  44  53  96  78  37  33   3  33  66  46  27  11  46  58  20  52  12   8\n",
      "  57  35  67  52  65  23   5  85  39  16]\n"
     ]
    }
   ],
   "source": [
    "import random\n",
    "#random 1000 x points\n",
    "x=[]\n",
    "n=1000\n",
    "for i in range(n):\n",
    "\tx.append(random.randint(0,100))\n",
    "\n",
    "x=np.array(x)\n",
    "print(x)"
   ]
  },
  {
   "cell_type": "code",
   "execution_count": 3,
   "id": "a19efbb3",
   "metadata": {},
   "outputs": [
    {
     "name": "stdout",
     "output_type": "stream",
     "text": [
      "[8 4 6 8 3 0 2 0 7 1 3 1 8 2 0 0 6 7 5 6 7 5 0 7 7 2 7 2 5 3 7 9 4 7 0 7 5\n",
      " 9 2 4 5 7 1 6 6 8 9 3 2 0 7 2 2 5 6 6 1 0 7 3 1 4 4 7 5 0 6 3 8 6 4 9 8 4\n",
      " 8 8 1 3 3 3 3 9 4 8 7 9 8 9 3 1 6 1 7 2 0 1 9 1 3 1 0 1 7 6 6 2 4 2 7 4 4\n",
      " 5 6 7 5 6 3 7 0 5 7 0 4 2 6 0 8 3 0 8 9 1 6 3 8 0 4 9 7 2 9 3 4 6 8 4 0 0\n",
      " 6 2 8 4 8 3 5 6 1 4 4 8 7 3 8 4 8 5 7 8 4 5 3 7 1 3 5 7 6 1 4 4 1 0 5 1 6\n",
      " 0 5 6 1 7 1 8 4 4 4 2 1 6 4 7 3 1 5 3 0 6 8 2 2 6 5 4 2 4 0 2 0 9 0 7 5 1\n",
      " 1 0 9 3 2 7 4 5 6 1 9 4 3 2 5 5 4 9 9 9 0 8 8 4 1 9 0 9 3 1 3 5 7 5 1 8 3\n",
      " 8 1 8 7 1 0 9 9 2 6 2 8 1 1 7 0 6 3 8 8 2 3 0 6 5 9 4 2 4 2 7 1 3 3 7 3 0\n",
      " 0 9 9 7 8 0 0 6 7 9 7 2 6 8 6 2 3 1 8 6 9 4 8 1 9 1 1 4 0 3 7 9 8 9 4 0 6\n",
      " 2 6 8 0 5 4 5 0 3 6 7 0 2 7 7 9 3 3 7 5 5 8 2 9 9 2 6 9 6 9 4 1 7 3 8 5 8\n",
      " 9 0 8 5 6 0 2 3 2 8 8 9 3 5 7 8 0 9 0 4 2 7 7 7 9 9 4 1 2 4 5 1 6 7 1 0 4\n",
      " 5 6 7 8 9 2 2 0 6 0 7 9 2 4 7 4 3 3 8 1 7 4 7 7 7 4 3 6 3 3 8 8 2 6 4 0 5\n",
      " 3 8 2 5 2 1 9 7 5 7 6 5 8 5 3 8 8 8 1 8 4 9 8 7 4 8 6 8 6 3 2 0 4 9 9 5 0\n",
      " 4 8 7 2 2 8 7 6 7 4 1 8 7 2 7 6 2 6 6 0 6 2 2 3 9 7 0 7 0 8 1 5 4 1 5 8 0\n",
      " 9 8 7 6 1 3 0 5 7 9 6 6 2 4 9 8 9 0 3 1 5 9 9 4 6 9 2 5 2 8 7 6 4 8 6 2 0\n",
      " 5 8 3 6 0 1 3 1 8 4 5 5 2 7 4 9 6 7 7 3 7 7 1 2 6 7 0 2 4 7 8 5 4 0 4 8 9\n",
      " 0 4 5 5 0 9 6 8 5 5 3 8 3 5 6 4 8 2 3 4 8 1 5 9 6 1 1 5 5 6 7 3 3 9 5 5 8\n",
      " 9 9 6 5 5 4 9 8 0 3 1 2 9 2 4 8 2 2 8 5 3 4 4 0 9 4 7 3 1 6 1 0 6 5 2 8 1\n",
      " 5 0 6 6 4 7 1 5 8 6 7 9 0 4 8 1 4 1 9 8 1 2 6 2 5 6 7 1 1 1 6 2 8 7 3 6 5\n",
      " 8 5 2 2 9 7 8 4 3 4 1 5 6 5 5 9 9 5 4 3 5 1 6 4 5 5 9 3 6 1 4 4 0 3 1 2 4\n",
      " 8 2 8 7 3 1 2 3 3 2 0 7 0 4 9 6 1 8 7 6 2 0 6 4 6 4 9 7 1 2 3 1 4 2 3 3 5\n",
      " 7 4 6 5 9 7 6 6 7 1 8 2 6 6 7 5 6 8 8 9 7 6 5 8 2 5 8 5 2 9 7 4 6 9 0 2 2\n",
      " 4 3 8 8 0 3 1 3 7 3 4 2 5 0 6 7 0 6 5 4 2 4 7 0 0 7 0 9 3 9 8 5 8 7 0 0 7\n",
      " 2 3 0 2 9 2 0 2 9 6 7 0 8 4 4 4 8 3 6 3 7 6 0 9 2 3 4 6 1 2 1 0 2 4 7 0 6\n",
      " 6 5 0 4 5 1 3 6 7 8 5 4 8 6 0 8 0 7 4 8 1 5 3 0 3 6 4 4 1 0 8 0 3 6 9 2 8\n",
      " 2 0 4 1 4 5 1 6 3 8 3 7 3 7 9 9 6 8 9 1 6 9 4 9 0 4 2 5 4 3 0 0 7 3 8 1 6\n",
      " 8 2 3 2 6 2 3 5 1 5 1 0 2 1 5 8 1 2 5 8 4 8 3 2 2 0 9 2 2 7 5 3 7 3 9 9 3\n",
      " 9]\n"
     ]
    }
   ],
   "source": [
    "import random\n",
    "#Random 1000 y points\n",
    "y=[]\n",
    "n=1000\n",
    "for i in range(n):\n",
    "\ty.append(random.randint(0,9))\n",
    "y=np.array(y)    \n",
    "print(y)"
   ]
  },
  {
   "cell_type": "code",
   "execution_count": 4,
   "id": "9080562e",
   "metadata": {},
   "outputs": [],
   "source": [
    "data= list(zip(x,y))"
   ]
  },
  {
   "cell_type": "code",
   "execution_count": 5,
   "id": "a40b9748",
   "metadata": {},
   "outputs": [],
   "source": [
    "df = pd.DataFrame(data,columns=[\"x\",\"y\"])"
   ]
  },
  {
   "cell_type": "code",
   "execution_count": 6,
   "id": "5f2cb24d",
   "metadata": {},
   "outputs": [
    {
     "data": {
      "text/html": [
       "<div>\n",
       "<style scoped>\n",
       "    .dataframe tbody tr th:only-of-type {\n",
       "        vertical-align: middle;\n",
       "    }\n",
       "\n",
       "    .dataframe tbody tr th {\n",
       "        vertical-align: top;\n",
       "    }\n",
       "\n",
       "    .dataframe thead th {\n",
       "        text-align: right;\n",
       "    }\n",
       "</style>\n",
       "<table border=\"1\" class=\"dataframe\">\n",
       "  <thead>\n",
       "    <tr style=\"text-align: right;\">\n",
       "      <th></th>\n",
       "      <th>x</th>\n",
       "      <th>y</th>\n",
       "    </tr>\n",
       "  </thead>\n",
       "  <tbody>\n",
       "    <tr>\n",
       "      <th>0</th>\n",
       "      <td>84</td>\n",
       "      <td>8</td>\n",
       "    </tr>\n",
       "    <tr>\n",
       "      <th>1</th>\n",
       "      <td>52</td>\n",
       "      <td>4</td>\n",
       "    </tr>\n",
       "    <tr>\n",
       "      <th>2</th>\n",
       "      <td>49</td>\n",
       "      <td>6</td>\n",
       "    </tr>\n",
       "    <tr>\n",
       "      <th>3</th>\n",
       "      <td>75</td>\n",
       "      <td>8</td>\n",
       "    </tr>\n",
       "    <tr>\n",
       "      <th>4</th>\n",
       "      <td>60</td>\n",
       "      <td>3</td>\n",
       "    </tr>\n",
       "    <tr>\n",
       "      <th>...</th>\n",
       "      <td>...</td>\n",
       "      <td>...</td>\n",
       "    </tr>\n",
       "    <tr>\n",
       "      <th>995</th>\n",
       "      <td>23</td>\n",
       "      <td>3</td>\n",
       "    </tr>\n",
       "    <tr>\n",
       "      <th>996</th>\n",
       "      <td>5</td>\n",
       "      <td>9</td>\n",
       "    </tr>\n",
       "    <tr>\n",
       "      <th>997</th>\n",
       "      <td>85</td>\n",
       "      <td>9</td>\n",
       "    </tr>\n",
       "    <tr>\n",
       "      <th>998</th>\n",
       "      <td>39</td>\n",
       "      <td>3</td>\n",
       "    </tr>\n",
       "    <tr>\n",
       "      <th>999</th>\n",
       "      <td>16</td>\n",
       "      <td>9</td>\n",
       "    </tr>\n",
       "  </tbody>\n",
       "</table>\n",
       "<p>1000 rows × 2 columns</p>\n",
       "</div>"
      ],
      "text/plain": [
       "      x  y\n",
       "0    84  8\n",
       "1    52  4\n",
       "2    49  6\n",
       "3    75  8\n",
       "4    60  3\n",
       "..   .. ..\n",
       "995  23  3\n",
       "996   5  9\n",
       "997  85  9\n",
       "998  39  3\n",
       "999  16  9\n",
       "\n",
       "[1000 rows x 2 columns]"
      ]
     },
     "execution_count": 6,
     "metadata": {},
     "output_type": "execute_result"
    }
   ],
   "source": [
    "df"
   ]
  },
  {
   "cell_type": "code",
   "execution_count": 7,
   "id": "d1fd79ae",
   "metadata": {},
   "outputs": [],
   "source": [
    "#splitting data using sklearn\n",
    "from sklearn.model_selection import train_test_split\n",
    "x_train,x_test,y_train,y_test = train_test_split(x,y,test_size=0.30,random_state=6)"
   ]
  },
  {
   "cell_type": "code",
   "execution_count": 8,
   "id": "36ba2139",
   "metadata": {},
   "outputs": [
    {
     "data": {
      "text/plain": [
       "array([1, 6, 9, 6, 7, 6, 7, 3, 4, 4, 6, 6, 8, 0, 3, 2, 2, 0, 4, 7, 9, 4,\n",
       "       3, 5, 9, 3, 4, 8, 6, 7, 7, 5, 7, 7, 4, 6, 4, 6, 7, 3, 2, 4, 2, 2,\n",
       "       5, 9, 5, 0, 2, 6, 9, 1, 2, 9, 1, 2, 4, 2, 3, 5, 5, 4, 2, 2, 0, 8,\n",
       "       2, 2, 3, 6, 8, 5, 3, 1, 2, 6, 0, 3, 9, 0, 4, 4, 2, 3, 1, 3, 5, 0,\n",
       "       7, 0, 3, 3, 7, 7, 7, 3, 2, 8, 5, 0, 4, 0, 1, 7, 6, 5, 0, 9, 5, 0,\n",
       "       4, 5, 6, 6, 8, 6, 6, 0, 0, 5, 4, 7, 5, 6, 9, 9, 1, 3, 2, 8, 0, 5,\n",
       "       0, 1, 7, 4, 6, 2, 6, 8, 4, 2, 2, 9, 1, 5, 8, 0, 5, 0, 6, 6, 1, 9,\n",
       "       6, 8, 2, 0, 9, 8, 1, 8, 9, 4, 0, 9, 2, 3, 6, 2, 2, 3, 0, 4, 2, 7,\n",
       "       9, 0, 5, 8, 1, 4, 5, 6, 2, 6, 0, 0, 5, 6, 3, 8, 2, 1, 8, 9, 5, 6,\n",
       "       8, 1, 7, 9, 0, 7, 5, 4, 9, 9, 9, 3, 7, 4, 4, 0, 8, 7, 3, 0, 9, 4,\n",
       "       2, 7, 0, 6, 2, 9, 4, 2, 4, 2, 1, 7, 0, 0, 0, 3, 5, 5, 1, 4, 2, 9,\n",
       "       6, 9, 7, 6, 6, 0, 6, 0, 3, 6, 8, 6, 1, 6, 8, 6, 6, 3, 1, 3, 7, 4,\n",
       "       8, 8, 1, 4, 8, 9, 5, 7, 2, 8, 7, 9, 7, 4, 8, 8, 3, 2, 7, 9, 6, 5,\n",
       "       7, 7, 6, 8, 3, 1, 7, 8, 0, 8, 9, 7, 6, 9, 3, 1, 4, 6, 1, 4, 2, 4,\n",
       "       8, 4, 8, 6, 0, 3, 4, 7, 0, 0, 5, 2, 7, 8, 0, 6, 1, 9, 0, 5, 2, 3,\n",
       "       5, 0, 4, 2, 2, 1, 7, 6, 6, 0, 5, 4, 1, 4, 4, 2, 8, 9, 9, 6, 6, 6,\n",
       "       5, 8, 3, 5, 7, 7, 0, 4, 8, 9, 9, 7, 5, 7, 7, 2, 5, 2, 3, 0, 0, 1,\n",
       "       7, 2, 7, 5, 7, 6, 1, 3, 8, 1, 7, 3, 1, 0, 8, 2, 4, 6, 0, 4, 3, 4,\n",
       "       8, 2, 8, 5, 3, 5, 7, 5, 3, 7, 0, 7, 4, 3, 7, 7, 0, 1, 7, 5, 5, 7,\n",
       "       1, 3, 6, 1, 6, 5, 2, 4, 7, 3, 1, 5, 8, 7, 7, 0, 7, 2, 2, 5, 1, 5,\n",
       "       3, 6, 4, 1, 9, 8, 6, 4, 8, 9, 1, 2, 9, 2, 7, 7, 8, 7, 4, 8, 0, 3,\n",
       "       3, 6, 5, 0, 5, 3, 7, 9, 9, 0, 3, 7, 0, 6, 7, 5, 2, 0, 1, 2, 6, 1,\n",
       "       9, 1, 7, 9, 3, 9, 8, 6, 1, 6, 8, 3, 1, 1, 5, 4, 1, 5, 3, 5, 7, 8,\n",
       "       2, 4, 4, 9, 8, 3, 2, 8, 7, 8, 6, 8, 8, 8, 7, 5, 7, 4, 9, 2, 2, 0,\n",
       "       3, 7, 1, 5, 9, 8, 3, 2, 1, 7, 3, 5, 6, 6, 7, 6, 4, 4, 0, 1, 1, 7,\n",
       "       7, 9, 0, 1, 9, 7, 5, 4, 9, 3, 0, 8, 8, 8, 8, 1, 2, 1, 7, 4, 3, 4,\n",
       "       2, 2, 4, 0, 5, 3, 9, 4, 5, 1, 8, 2, 1, 8, 6, 3, 8, 1, 4, 5, 5, 8,\n",
       "       6, 4, 4, 7, 2, 8, 2, 1, 0, 6, 4, 8, 3, 6, 0, 1, 6, 1, 3, 4, 1, 0,\n",
       "       6, 3, 6, 8, 0, 5, 0, 7, 8, 1, 3, 0, 2, 2, 8, 1, 4, 8, 8, 3, 4, 4,\n",
       "       7, 3, 3, 7, 4, 5, 8, 5, 7, 1, 0, 5, 9, 8, 9, 0, 1, 1, 3, 4, 0, 4,\n",
       "       2, 8, 3, 2, 6, 9, 5, 6, 3, 9, 8, 0, 6, 9, 9, 0, 9, 0, 4, 0, 7, 3,\n",
       "       3, 7, 7, 2, 2, 8, 4, 0, 8, 0, 9, 8, 7, 1, 5, 7, 1, 4])"
      ]
     },
     "execution_count": 8,
     "metadata": {},
     "output_type": "execute_result"
    }
   ],
   "source": [
    "y_train"
   ]
  },
  {
   "cell_type": "code",
   "execution_count": 9,
   "id": "bd929302",
   "metadata": {},
   "outputs": [],
   "source": [
    "x_mean=x_train.mean()"
   ]
  },
  {
   "cell_type": "code",
   "execution_count": 10,
   "id": "599a75e4",
   "metadata": {},
   "outputs": [
    {
     "data": {
      "text/plain": [
       "48.645714285714284"
      ]
     },
     "execution_count": 10,
     "metadata": {},
     "output_type": "execute_result"
    }
   ],
   "source": [
    "x_mean"
   ]
  },
  {
   "cell_type": "code",
   "execution_count": 11,
   "id": "ef33d064",
   "metadata": {},
   "outputs": [],
   "source": [
    "y_mean=y_train.mean()"
   ]
  },
  {
   "cell_type": "code",
   "execution_count": 12,
   "id": "297d4906",
   "metadata": {},
   "outputs": [
    {
     "data": {
      "text/plain": [
       "4.508571428571429"
      ]
     },
     "execution_count": 12,
     "metadata": {},
     "output_type": "execute_result"
    }
   ],
   "source": [
    "y_mean"
   ]
  },
  {
   "cell_type": "code",
   "execution_count": 13,
   "id": "3cc9e841",
   "metadata": {},
   "outputs": [],
   "source": [
    "l=len(x_train)"
   ]
  },
  {
   "cell_type": "code",
   "execution_count": 14,
   "id": "4b9d7aae",
   "metadata": {},
   "outputs": [],
   "source": [
    "num=0\n",
    "den=0"
   ]
  },
  {
   "cell_type": "code",
   "execution_count": 15,
   "id": "02e4c3c0",
   "metadata": {},
   "outputs": [],
   "source": [
    "for i in range(l):\n",
    "    num=num+((x_train[i]-x_mean)*(y_train[i]-y_mean))\n",
    "    den=den+((x_train[i]-x_mean)**2)\n",
    "m=num/den"
   ]
  },
  {
   "cell_type": "code",
   "execution_count": 16,
   "id": "bdc074ad",
   "metadata": {},
   "outputs": [
    {
     "name": "stdout",
     "output_type": "stream",
     "text": [
      "0.0013588859581049311\n"
     ]
    }
   ],
   "source": [
    "#slope\n",
    "print(m)"
   ]
  },
  {
   "cell_type": "code",
   "execution_count": 17,
   "id": "f9453cb9",
   "metadata": {},
   "outputs": [
    {
     "name": "stdout",
     "output_type": "stream",
     "text": [
      "4.442467450506587\n"
     ]
    }
   ],
   "source": [
    "#intercept\n",
    "c=y_mean-(m*x_mean)\n",
    "print(c)"
   ]
  },
  {
   "cell_type": "code",
   "execution_count": 18,
   "id": "d3b31246",
   "metadata": {},
   "outputs": [
    {
     "data": {
      "text/plain": [
       "[<matplotlib.lines.Line2D at 0x18ded102400>]"
      ]
     },
     "execution_count": 18,
     "metadata": {},
     "output_type": "execute_result"
    },
    {
     "data": {
      "image/png": "[encoded data removed]",
      "text/plain": [
       "<Figure size 640x480 with 1 Axes>"
      ]
     },
     "metadata": {},
     "output_type": "display_data"
    }
   ],
   "source": [
    "#plotting\n",
    "plt.scatter(x_train,y_train)\n",
    "plt.plot(x_train,m*x_train+c)"
   ]
  },
  {
   "cell_type": "code",
   "execution_count": 19,
   "id": "c5e0f939",
   "metadata": {},
   "outputs": [],
   "source": [
    "y_pred=m*x_test+c"
   ]
  },
  {
   "cell_type": "code",
   "execution_count": 20,
   "id": "b0fe8fe3",
   "metadata": {},
   "outputs": [
    {
     "data": {
      "text/plain": [
       "array([4.44654411, 4.44926188, 4.57563827, 4.49954066, 4.50633509,\n",
       "       4.46013297, 4.53623058, 4.51992395, 4.54030724, 4.46556851,\n",
       "       4.55117833, 4.51856506, 4.45605631, 4.49954066, 4.56069053,\n",
       "       4.51312952, 4.50225843, 4.47372183, 4.55797276, 4.5348717 ,\n",
       "       4.5049762 , 4.52128284, 4.55253721, 4.5634083 , 4.54710167,\n",
       "       4.45333854, 4.46013297, 4.53758947, 4.52671838, 4.57020273,\n",
       "       4.48323403, 4.5729205 , 4.51312952, 4.48731069, 4.57156162,\n",
       "       4.56748496, 4.56204941, 4.48459292, 4.44246745, 4.55117833,\n",
       "       4.49138734, 4.52400061, 4.53215392, 4.44790299, 4.48051626,\n",
       "       4.47372183, 4.47372183, 4.47915737, 4.54846056, 4.56612607,\n",
       "       4.54846056, 4.46556851, 4.57699716, 4.4669274 , 4.5443839 ,\n",
       "       4.53215392, 4.5634083 , 4.56884384, 4.51992395, 4.4859518 ,\n",
       "       4.52943615, 4.51992395, 4.47915737, 4.49410512, 4.57156162,\n",
       "       4.45062077, 4.5729205 , 4.49682289, 4.48051626, 4.53079504,\n",
       "       4.55797276, 4.47779849, 4.46964517, 4.50225843, 4.4574152 ,\n",
       "       4.55661387, 4.53079504, 4.51992395, 4.55117833, 4.5049762 ,\n",
       "       4.56884384, 4.52400061, 4.5729205 , 4.47236294, 4.49138734,\n",
       "       4.47372183, 4.50225843, 4.52943615, 4.52535949, 4.49818177,\n",
       "       4.48187514, 4.45605631, 4.55797276, 4.48187514, 4.53079504,\n",
       "       4.44246745, 4.44518522, 4.55661387, 4.44518522, 4.53758947,\n",
       "       4.47236294, 4.55253721, 4.44926188, 4.48866957, 4.5049762 ,\n",
       "       4.45877408, 4.57699716, 4.5538961 , 4.4574152 , 4.52943615,\n",
       "       4.52807727, 4.46964517, 4.50905286, 4.53351281, 4.55117833,\n",
       "       4.51177063, 4.44926188, 4.57020273, 4.54030724, 4.4669274 ,\n",
       "       4.51992395, 4.50905286, 4.46285074, 4.48731069, 4.57835605,\n",
       "       4.55933164, 4.48731069, 4.53623058, 4.49410512, 4.4574152 ,\n",
       "       4.5443839 , 4.4669274 , 4.56748496, 4.51856506, 4.51312952,\n",
       "       4.57699716, 4.55661387, 4.5049762 , 4.53079504, 4.52943615,\n",
       "       4.57699716, 4.49138734, 4.52128284, 4.46964517, 4.47372183,\n",
       "       4.55661387, 4.55933164, 4.51856506, 4.52400061, 4.49682289,\n",
       "       4.44382634, 4.46013297, 4.53079504, 4.44246745, 4.46828628,\n",
       "       4.4859518 , 4.57835605, 4.54030724, 4.49002846, 4.44790299,\n",
       "       4.51856506, 4.49682289, 4.49274623, 4.57563827, 4.53351281,\n",
       "       4.45605631, 4.44518522, 4.55797276, 4.54981944, 4.55117833,\n",
       "       4.50769398, 4.54981944, 4.46964517, 4.49138734, 4.48187514,\n",
       "       4.49138734, 4.49954066, 4.45062077, 4.51584729, 4.57156162,\n",
       "       4.495464  , 4.55797276, 4.46556851, 4.46556851, 4.47779849,\n",
       "       4.55117833, 4.57563827, 4.44246745, 4.5634083 , 4.48323403,\n",
       "       4.53623058, 4.46013297, 4.56612607, 4.4859518 , 4.57156162,\n",
       "       4.44518522, 4.44926188, 4.50633509, 4.49002846, 4.46285074,\n",
       "       4.45605631, 4.53758947, 4.55661387, 4.5049762 , 4.55253721,\n",
       "       4.49274623, 4.49138734, 4.53894835, 4.52264172, 4.52671838,\n",
       "       4.48731069, 4.56748496, 4.55661387, 4.50089955, 4.54846056,\n",
       "       4.54030724, 4.46149185, 4.46420963, 4.56612607, 4.47100406,\n",
       "       4.51720618, 4.48866957, 4.45197965, 4.5443839 , 4.53079504,\n",
       "       4.50769398, 4.53351281, 4.51856506, 4.55117833, 4.57835605,\n",
       "       4.44654411, 4.52264172, 4.52807727, 4.54166613, 4.44654411,\n",
       "       4.57835605, 4.49410512, 4.56069053, 4.45062077, 4.55797276,\n",
       "       4.4764396 , 4.50089955, 4.45877408, 4.55117833, 4.45605631,\n",
       "       4.5634083 , 4.51448841, 4.56204941, 4.57835605, 4.53894835,\n",
       "       4.56476719, 4.53215392, 4.54710167, 4.44382634, 4.47236294,\n",
       "       4.5729205 , 4.48866957, 4.51992395, 4.54302501, 4.47779849,\n",
       "       4.56748496, 4.51041175, 4.51177063, 4.4669274 , 4.57427939,\n",
       "       4.47100406, 4.47236294, 4.53623058, 4.4764396 , 4.46420963,\n",
       "       4.54030724, 4.44654411, 4.4574152 , 4.44246745, 4.50905286,\n",
       "       4.44926188, 4.57156162, 4.51992395, 4.4574152 , 4.44246745,\n",
       "       4.51584729, 4.55933164, 4.49682289, 4.54710167, 4.57020273,\n",
       "       4.46964517, 4.45469742, 4.57835605, 4.5538961 , 4.54030724,\n",
       "       4.44246745, 4.56884384, 4.49002846, 4.48731069, 4.54710167,\n",
       "       4.52264172, 4.48051626, 4.44654411, 4.46420963, 4.49410512])"
      ]
     },
     "execution_count": 20,
     "metadata": {},
     "output_type": "execute_result"
    }
   ],
   "source": [
    "y_pred"
   ]
  },
  {
   "cell_type": "code",
   "execution_count": 21,
   "id": "500c5d7f",
   "metadata": {},
   "outputs": [],
   "source": [
    "e=(y_test-y_pred)"
   ]
  },
  {
   "cell_type": "code",
   "execution_count": 22,
   "id": "80aac747",
   "metadata": {},
   "outputs": [
    {
     "name": "stdout",
     "output_type": "stream",
     "text": [
      "[-3.44654411 -4.44926188  0.42436173 -0.49954066  3.49366491 -1.46013297\n",
      " -3.53623058 -2.51992395 -3.54030724  3.53443149  1.44882167  1.48143494\n",
      " -1.45605631 -0.49954066  3.43930947  1.48687048  4.49774157 -1.47372183\n",
      " -2.55797276 -1.5348717  -1.5049762   3.47871716  2.44746279  1.4365917\n",
      "  0.45289833  2.54666146 -4.46013297 -1.53758947  2.47328162 -1.57020273\n",
      "  2.51676597  1.4270795   2.48687048 -3.48731069 -3.57156162  4.43251504\n",
      " -2.56204941  2.51540708 -1.44246745  3.44882167  4.50861266  0.47599939\n",
      "  3.46784608  0.55209701  4.51948374 -3.47372183 -1.47372183 -3.47915737\n",
      "  1.45153944  0.43387393  1.45153944  1.53443149 -2.57699716 -0.4669274\n",
      " -4.5443839   2.46784608  0.4365917   1.43115616  1.48007605  1.5140482\n",
      "  3.47056385  0.48007605  4.52084263 -3.49410512  0.42843838 -4.45062077\n",
      "  3.4270795  -3.49682289 -4.48051626  3.46920496  2.44202724  0.52220151\n",
      " -2.46964517  3.49774157  0.5425848  -2.55661387 -3.53079504 -3.51992395\n",
      " -0.55117833  3.4950238   2.43115616 -1.52400061 -2.5729205  -2.47236294\n",
      " -4.49138734  1.52627817  2.49774157 -4.52943615  1.47464051  0.50181823\n",
      " -4.48187514 -2.45605631 -2.55797276 -0.48187514  1.46920496 -3.44246745\n",
      " -4.44518522 -0.55661387 -2.44518522 -4.53758947  1.52763706 -3.55253721\n",
      "  3.55073812 -0.48866957  1.4950238   2.54122592  1.42300284  1.4461039\n",
      " -0.4574152   4.47056385 -4.52807727  3.53035483  3.49094714 -1.53351281\n",
      "  2.44882167  0.48822937 -0.44926188 -1.57020273 -3.54030724  2.5330726\n",
      "  0.48007605  1.49094714 -1.46285074 -2.48731069 -3.57835605 -2.55933164\n",
      "  3.51268931  0.46376942  4.50589488  0.5425848   1.4556161  -2.4669274\n",
      "  0.43251504  1.48143494 -0.51312952 -0.57699716  3.44338613 -3.5049762\n",
      "  2.46920496 -0.52943615  0.42300284  4.50861266 -0.52128284  4.53035483\n",
      "  4.52627817 -4.55661387  1.44066836 -3.51856506 -4.52400061  4.50317711\n",
      "  3.55617366  1.53986703  3.46920496  2.55753255  2.53171372  3.5140482\n",
      " -0.57835605  4.45969276 -0.49002846 -2.44790299  3.48143494  1.50317711\n",
      "  1.50725377 -2.57563827 -1.53351281 -3.45605631  4.55481478  4.44202724\n",
      " -3.54981944  1.44882167 -0.50769398  3.45018056  4.53035483  3.50861266\n",
      " -4.48187514 -4.49138734  0.50045934  2.54937923 -0.51584729  0.42843838\n",
      "  2.504536    4.44202724 -2.46556851  4.53443149 -4.47779849 -1.55117833\n",
      "  4.42436173 -2.44246745 -3.5634083  -2.48323403  2.46376942 -0.46013297\n",
      " -1.56612607  4.5140482  -1.57156162  2.55481478  4.55073812  4.49366491\n",
      "  3.50997154  0.53714926 -3.45605631  2.46241053 -4.55661387 -2.5049762\n",
      " -1.55253721 -1.49274623  3.50861266  4.46105165 -3.52264172  3.47328162\n",
      "  3.51268931  3.43251504  0.44338613 -0.50089955  1.45153944  1.45969276\n",
      "  0.53850815 -3.46420963 -2.56612607 -0.47100406  3.48279382 -0.48866957\n",
      " -2.45197965 -2.5443839   3.46920496 -0.50769398  0.46648719  4.48143494\n",
      "  0.44882167  1.42164395  2.55345589 -3.52264172 -2.52807727 -0.54166613\n",
      "  4.55345589 -0.57835605 -4.49410512 -0.56069053  0.54937923  0.44202724\n",
      " -2.4764396  -4.50089955 -2.45877408 -1.55117833  4.54394369  4.4365917\n",
      "  1.48551159  4.43795059 -1.57835605 -1.53894835  2.43523281 -1.53215392\n",
      "  0.45289833  3.55617366  1.52763706  1.4270795   0.51133043 -0.51992395\n",
      "  3.45697499 -1.47779849  4.43251504  4.48958825 -2.51177063 -4.4669274\n",
      "  0.42572061 -0.47100406  0.52763706 -1.53623058 -0.4764396   1.53579037\n",
      "  0.45969276 -2.44654411  3.5425848  -1.44246745  2.49094714 -0.44926188\n",
      " -1.57156162 -4.51992395 -1.4574152  -3.44246745  4.48415271 -2.55933164\n",
      "  4.50317711 -1.54710167 -0.57020273 -0.46964517 -0.45469742 -4.57835605\n",
      " -2.5538961   3.45969276 -0.44246745 -2.56884384  3.50997154  1.51268931\n",
      " -4.54710167  4.47735828 -1.48051626  3.55345589  3.53579037  2.50589488]\n"
     ]
    }
   ],
   "source": [
    "print(e)"
   ]
  },
  {
   "cell_type": "code",
   "execution_count": 23,
   "id": "e96d9fbc",
   "metadata": {},
   "outputs": [],
   "source": [
    "mse=(((e)**2)/l).sum()"
   ]
  },
  {
   "cell_type": "code",
   "execution_count": 24,
   "id": "799e3424",
   "metadata": {},
   "outputs": [],
   "source": [
    "rmse=math.sqrt(mse)"
   ]
  },
  {
   "cell_type": "code",
   "execution_count": 25,
   "id": "f5f75d96",
   "metadata": {},
   "outputs": [
    {
     "name": "stdout",
     "output_type": "stream",
     "text": [
      "1.8399569762241264\n"
     ]
    }
   ],
   "source": [
    "print(rmse)"
   ]
  },
  {
   "cell_type": "code",
   "execution_count": 26,
   "id": "afca390f",
   "metadata": {},
   "outputs": [],
   "source": [
    "lr=0.01\n",
    "iterations=1000\n",
    "error=[]"
   ]
  },
  {
   "cell_type": "code",
   "execution_count": null,
   "id": "eb58604f",
   "metadata": {},
   "outputs": [
    {
     "name": "stderr",
     "output_type": "stream",
     "text": [
      "C:\\Users\\Vaishnavi\\AppData\\Local\\Temp\\ipykernel_20376\\129872379.py:9: RuntimeWarning: overflow encountered in double_scalars\n",
      "  cost=cost+(y_test[i]-y_pred)**2\n",
      "C:\\Users\\Vaishnavi\\AppData\\Local\\Temp\\ipykernel_20376\\129872379.py:14: RuntimeWarning: overflow encountered in double_scalars\n",
      "  cost_c = cost_c + pc\n",
      "C:\\Users\\Vaishnavi\\AppData\\Local\\Temp\\ipykernel_20376\\129872379.py:15: RuntimeWarning: overflow encountered in double_scalars\n",
      "  cost_m = cost_m + pm\n",
      "C:\\Users\\Vaishnavi\\AppData\\Local\\Temp\\ipykernel_20376\\129872379.py:11: RuntimeWarning: invalid value encountered in double_scalars\n",
      "  pc=2*(y_test[j]-(c+m*x_test[j]))#derivative wrt intercept c\n",
      "C:\\Users\\Vaishnavi\\AppData\\Local\\Temp\\ipykernel_20376\\129872379.py:12: RuntimeWarning: invalid value encountered in double_scalars\n",
      "  pm=2*(y_test[j]-(c+m*x_test[j]))#derivative wrt intercept m\n"
     ]
    }
   ],
   "source": [
    "for i in range(iterations):\n",
    "    cost=0\n",
    "    cost_c=0\n",
    "    cost_m=0\n",
    "    \n",
    "    for i in range(len(x_test)):\n",
    "        y_pred=(c+m*x_test[i])\n",
    "        \n",
    "        cost=cost+(y_test[i]-y_pred)**2\n",
    "        for j in range(len(x_test)):\n",
    "            pc=2*(y_test[j]-(c+m*x_test[j]))#derivative wrt intercept c\n",
    "            pm=2*(y_test[j]-(c+m*x_test[j]))#derivative wrt intercept m\n",
    "            \n",
    "            cost_c = cost_c + pc\n",
    "            cost_m = cost_m + pm \n",
    "        c=c-lr*cost_c\n",
    "        m=m-lr*cost_m\n",
    "        error.append(cost)                   \n",
    "                          "
   ]
  },
  {
   "cell_type": "markdown",
   "id": "4639ac2c",
   "metadata": {},
   "source": [
    "# Using sklearn"
   ]
  },
  {
   "cell_type": "code",
   "execution_count": null,
   "id": "f5403469",
   "metadata": {},
   "outputs": [],
   "source": [
    "import sklearn"
   ]
  },
  {
   "cell_type": "code",
   "execution_count": null,
   "id": "8ae19f79",
   "metadata": {},
   "outputs": [],
   "source": [
    "from sklearn.linear_model import LinearRegression\n",
    "reg = LinearRegression()\n",
    "reg.fit(x_train.reshape(-1,1),y_train)\n",
    "y_pre=reg.predict(x_test.reshape(-1,1))"
   ]
  }
 ],
 "metadata": {
  "kernelspec": {
   "display_name": "Python 3 (ipykernel)",
   "language": "python",
   "name": "python3"
  },
  "language_info": {
   "codemirror_mode": {
    "name": "ipython",
    "version": 3
   },
   "file_extension": ".py",
   "mimetype": "text/x-python",
   "name": "python",
   "nbconvert_exporter": "python",
   "pygments_lexer": "ipython3",
   "version": "3.9.12"
  }
 },
 "nbformat": 4,
 "nbformat_minor": 5
}
